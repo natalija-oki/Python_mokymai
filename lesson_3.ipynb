{
 "cells": [
  {
   "cell_type": "markdown",
   "metadata": {},
   "source": [
    "# mutable variable:\n"
   ]
  },
  {
   "attachments": {},
   "cell_type": "markdown",
   "metadata": {},
   "source": [
    "# fixing mutable variable #1\n",
    "a = [1,2,3]\n",
    "b = a.copy()\n",
    "print ('pries')\n",
    "print( id(a) )\n",
    "print( id(b) )\n",
    "b.append(10)\n",
    "print ('po')\n",
    "print( id(a) )\n",
    "print( id(b) )\n",
    "print (a)\n",
    "print (b)"
   ]
  },
  {
   "cell_type": "code",
   "execution_count": 2,
   "metadata": {},
   "outputs": [
    {
     "name": "stdout",
     "output_type": "stream",
     "text": [
      "pries\n",
      "2479068507392\n",
      "2479068507392\n",
      "po\n",
      "2479068507392\n",
      "2479068507392\n",
      "[1, 2, 3, 10]\n",
      "[1, 2, 3, 10]\n"
     ]
    }
   ],
   "source": [
    "# mutable variable:\n",
    "a = [1,2,3]\n",
    "b = a\n",
    "print ('pries')\n",
    "print( id(a) )\n",
    "print( id(b) )\n",
    "b.append(10)\n",
    "print ('po')\n",
    "print( id(a) )\n",
    "print( id(b) )\n",
    "print (a)\n",
    "print (b)"
   ]
  },
  {
   "cell_type": "code",
   "execution_count": 3,
   "metadata": {},
   "outputs": [
    {
     "name": "stdout",
     "output_type": "stream",
     "text": [
      "pries\n",
      "2479068507840\n",
      "2479068505920\n",
      "po\n",
      "2479068507840\n",
      "2479068505920\n",
      "[1, 2, 3]\n",
      "[1, 2, 3, 10]\n"
     ]
    }
   ],
   "source": [
    "# fixing mutable variable #1\n",
    "a = [1,2,3]\n",
    "b = a.copy()\n",
    "print ('pries')\n",
    "print( id(a) )\n",
    "print( id(b) )\n",
    "b.append(10)\n",
    "print ('po')\n",
    "print( id(a) )\n",
    "print( id(b) )\n",
    "print (a)\n",
    "print (b)"
   ]
  },
  {
   "cell_type": "code",
   "execution_count": 4,
   "metadata": {},
   "outputs": [
    {
     "name": "stdout",
     "output_type": "stream",
     "text": [
      "pries\n",
      "2479068318144\n",
      "2479068508416\n",
      "po\n",
      "2479068318144\n",
      "2479068508416\n",
      "[1, 2, ['a', 'b', 'c']]\n",
      "[1, 2, ['a', 'b', 'c']]\n"
     ]
    }
   ],
   "source": [
    "# where fix #1 doesn't work\n",
    "a = [1,2, [ 'a', 'b' ] ]\n",
    "b = a.copy()\n",
    "print ('pries')\n",
    "print( id(a) )\n",
    "print( id(b) )\n",
    "b[-1].append( 'c' )\n",
    "print ('po')\n",
    "print( id(a) )\n",
    "print( id(b) )\n",
    "print (a)\n",
    "print (b)"
   ]
  },
  {
   "cell_type": "code",
   "execution_count": 6,
   "metadata": {},
   "outputs": [
    {
     "name": "stdout",
     "output_type": "stream",
     "text": [
      "pries\n",
      "2479068505920\n",
      "2479068326592\n",
      "po\n",
      "2479068505920\n",
      "2479068326592\n",
      "[1, 2, ['a', 'b']]\n",
      "[1, 2, ['a', 'b', 'c']]\n"
     ]
    }
   ],
   "source": [
    "# geriausias sprendimas\n",
    "# fixing mutable variable #2\n",
    "import copy\n",
    "a = [1,2, [ 'a', 'b' ] ]\n",
    "b = copy.deepcopy(a)\n",
    "print ('pries')\n",
    "print( id(a) )\n",
    "print( id(b) )\n",
    "b[-1].append( 'c' )\n",
    "print ('po')\n",
    "print( id(a) )\n",
    "print( id(b) )\n",
    "print (a)\n",
    "print (b)"
   ]
  },
  {
   "cell_type": "markdown",
   "metadata": {},
   "source": [
    "#Tuple"
   ]
  },
  {
   "cell_type": "markdown",
   "metadata": {},
   "source": []
  },
  {
   "cell_type": "markdown",
   "metadata": {},
   "source": [
    "##Tuple"
   ]
  },
  {
   "cell_type": "code",
   "execution_count": 9,
   "metadata": {},
   "outputs": [
    {
     "name": "stdout",
     "output_type": "stream",
     "text": [
      "<class 'tuple'>\n"
     ]
    }
   ],
   "source": [
    "my_tuple = (1, 5, 'b')\n",
    "print( type(my_tuple) )"
   ]
  },
  {
   "cell_type": "code",
   "execution_count": 11,
   "metadata": {},
   "outputs": [
    {
     "name": "stdout",
     "output_type": "stream",
     "text": [
      "(1, 5, 'b', 54, 1)\n",
      "(1, 5, 'b')\n"
     ]
    }
   ],
   "source": [
    "print( my_tuple + (54,1)) #+ 5 # error\n",
    "print( my_tuple)"
   ]
  },
  {
   "cell_type": "code",
   "execution_count": 12,
   "metadata": {},
   "outputs": [
    {
     "name": "stdout",
     "output_type": "stream",
     "text": [
      "5\n",
      "(5, 'b')\n"
     ]
    }
   ],
   "source": [
    "print( my_tuple[1])\n",
    "print( my_tuple[1:])"
   ]
  },
  {
   "cell_type": "code",
   "execution_count": 13,
   "metadata": {},
   "outputs": [
    {
     "name": "stdout",
     "output_type": "stream",
     "text": [
      "(1, 5, 'b', 54, 1)\n"
     ]
    }
   ],
   "source": [
    "my_tuple = (1, 5, 'b')# perra6yti\n",
    "my_tuple = my_tuple + (54,1)\n",
    "print ( my_tuple)"
   ]
  },
  {
   "cell_type": "code",
   "execution_count": 14,
   "metadata": {},
   "outputs": [
    {
     "name": "stdout",
     "output_type": "stream",
     "text": [
      "2\n",
      "3\n"
     ]
    }
   ],
   "source": [
    "print ( my_tuple.count(1))# galimos komandos\n",
    "print ( my_tuple.index(54))"
   ]
  },
  {
   "cell_type": "code",
   "execution_count": 16,
   "metadata": {},
   "outputs": [
    {
     "name": "stdout",
     "output_type": "stream",
     "text": [
      "5\n",
      "False\n",
      "True\n"
     ]
    }
   ],
   "source": [
    "print ( len(my_tuple))\n",
    "print ( 100 in my_tuple)\n",
    "print ( 1 in my_tuple)"
   ]
  },
  {
   "cell_type": "code",
   "execution_count": 19,
   "metadata": {},
   "outputs": [
    {
     "name": "stdout",
     "output_type": "stream",
     "text": [
      "[1, 5, 'b', 54, 1]\n",
      "<class 'list'>\n",
      "(1, 5, 'b', 54, 1)\n",
      "(1, 5, 'b', 54, 1)\n"
     ]
    }
   ],
   "source": [
    "#keisti duomenu tipus\n",
    "my_list = list( my_tuple )\n",
    "print(my_list)\n",
    "print(type(my_list))\n",
    "print( my_tuple)\n",
    "\n",
    "my_tuple = tuple (my_list)\n",
    "print( my_tuple)"
   ]
  },
  {
   "cell_type": "code",
   "execution_count": 22,
   "metadata": {},
   "outputs": [
    {
     "name": "stdout",
     "output_type": "stream",
     "text": [
      "[6, [7, 8]]\n",
      "[7, 8]\n",
      "8\n"
     ]
    }
   ],
   "source": [
    "# gaukite reiksme\n",
    "#my_tuple = (1, 2, ['3', 4, 5], [6, [7, (8)]])\n",
    "#Į ekraną išveskite 8\n",
    "\n",
    "my_tuple = (1, 2, ['3', 4, 5], [6, [7, (8)]])\n",
    "print( my_tuple[-1])\n",
    "print( my_tuple[-1][-1])\n",
    "print( my_tuple[-1][-1][-1])"
   ]
  },
  {
   "cell_type": "code",
   "execution_count": 26,
   "metadata": {},
   "outputs": [
    {
     "name": "stdout",
     "output_type": "stream",
     "text": [
      "(11, [222, 22], 44, 55)\n"
     ]
    }
   ],
   "source": [
    "# tuple1 = (11, [222, 33], 44, 55)\n",
    "# tuple1 = (11, [222, 22], 44, 55)\n",
    "tuple1 = (11, [222, 33], 44, 55)\n",
    "list1 = list(tuple1)\n",
    "list1[1][1] = 22\n",
    "tuple1 = tuple(list1)\n",
    "print(tuple1)\n",
    "\n"
   ]
  },
  {
   "cell_type": "code",
   "execution_count": 28,
   "metadata": {},
   "outputs": [
    {
     "name": "stdout",
     "output_type": "stream",
     "text": [
      "(11, [222, 22], 44, 55)\n"
     ]
    }
   ],
   "source": [
    "# antras variantas\n",
    "tuple1 = (11, [222, 33], 44, 55)\n",
    "tuple1[1][1] = 22 \n",
    "print (tuple1)"
   ]
  },
  {
   "cell_type": "code",
   "execution_count": 54,
   "metadata": {},
   "outputs": [
    {
     "name": "stdout",
     "output_type": "stream",
     "text": [
      "(10, 50, 30, 15, 90, 150)\n",
      "150\n",
      "None\n",
      "(10, 15, 30, 50, 90)\n",
      "0\n",
      "90\n",
      "150\n"
     ]
    }
   ],
   "source": [
    "#Tuple turi tik du jam skirtus metodus:\n",
    "#tuple_variable.count(norima_reikšmė) - grąžina kiek kartų buvo rasta reikšmė\n",
    "#tuple_variable.index(norima_reikšmė) - grąžina indeksą pirmos rastos norimos_reikšmės\n",
    "\n",
    "#Tačiau visi metodai skirti sekos duomenų tipams galioja ir tuple\n",
    "tuple1 = (10, 50, 30)\n",
    "tuple2 = (15, 90, 150)\n",
    "tuple3 = tuple1 + tuple2\n",
    "print(tuple3)\n",
    "\n",
    "list_new = list(tuple3)\n",
    "print( list_new.pop(-1))\n",
    "print( list_new.sort())\n",
    "\n",
    "tuple_new = tuple(list_new)\n",
    "print(tuple_new)\n",
    "print(tuple_new.count(4))\n",
    "print(tuple_new[-1])\n",
    "\n",
    "print(max (tuple3))"
   ]
  },
  {
   "cell_type": "code",
   "execution_count": 39,
   "metadata": {},
   "outputs": [
    {
     "name": "stdout",
     "output_type": "stream",
     "text": [
      "(1, 2, 76, 6, 88, 3, 1, 1)\n",
      "(1, 2, 76, 6, 88, 3, 1)\n",
      "(1, 1, 2, 3, 6, 76, 88)\n",
      "2\n",
      "88\n"
     ]
    }
   ],
   "source": [
    "# Kirilo var\n",
    "tuple2 = (1, 2, 76, 6)\n",
    "tuple3 = (88, 3, 1, 1)\n",
    "tuple_new = tuple2 + tuple3\n",
    "print(tuple_new)\n",
    "list_new = list(tuple_new)\n",
    "list_new.pop(-1)\n",
    "#tuple_new = tuple(list_new)\n",
    "#print(tuple_new)\n",
    "#list_new = list(tuple_new)\n",
    "list_new.sort()\n",
    "tuple_new = tuple(list_new)\n",
    "print(tuple_new)\n",
    "print(tuple_new.count(1))\n",
    "print(tuple_new[-1])"
   ]
  },
  {
   "cell_type": "markdown",
   "metadata": {},
   "source": [
    "##RANGE"
   ]
  },
  {
   "cell_type": "code",
   "execution_count": 61,
   "metadata": {},
   "outputs": [
    {
     "name": "stdout",
     "output_type": "stream",
     "text": [
      "range(0, 10)\n",
      "<class 'range'>\n",
      "[0, 1, 2, 3, 4, 5, 6, 7, 8, 9]\n",
      "[-5, -4, -3, -2, -1, 0, 1, 2, 3, 4, 5, 6, 7, 8, 9]\n",
      "[-5, -2, 1, 4, 7]\n",
      "[100, 85, 70, 55, 40, 25, 10, -5, -20]\n"
     ]
    }
   ],
   "source": [
    "print ( range(10))\n",
    "print ( type (range(10)))\n",
    "print ( list (range(10)))\n",
    "print ( list( range(-5,10)))\n",
    "print ( list( range(-5,10,3)))\n",
    "print ( list( range(100,-32,-15)))\n",
    "# range(start, end, step)"
   ]
  },
  {
   "cell_type": "markdown",
   "metadata": {},
   "source": [
    "# For loop (for ciklas)"
   ]
  },
  {
   "cell_type": "code",
   "execution_count": 65,
   "metadata": {},
   "outputs": [
    {
     "name": "stdout",
     "output_type": "stream",
     "text": [
      "vilnius\n",
      "['vilnius', 'Kaunas', 'Klaipeda']\n",
      "vilnius yra nuostabus miestas\n",
      "Kaunas\n",
      "['vilnius', 'Kaunas', 'Klaipeda']\n",
      "Kaunas yra nuostabus miestas\n",
      "Klaipeda\n",
      "['vilnius', 'Kaunas', 'Klaipeda']\n",
      "Klaipeda yra nuostabus miestas\n",
      "pabaiga\n"
     ]
    }
   ],
   "source": [
    "miestai = ['vilnius', 'Kaunas', 'Klaipeda']\n",
    "\n",
    "# for <sugalvotas zodis> in <sarasas/tuple/tekstas/range>:\n",
    "for miestas in miestai:\n",
    "    print(miestas)\n",
    "    print(miestai)\n",
    "    print(f'{miestas} yra nuostabus miestas')\n",
    "print('pabaiga')"
   ]
  },
  {
   "cell_type": "code",
   "execution_count": 70,
   "metadata": {},
   "outputs": [
    {
     "name": "stdout",
     "output_type": "stream",
     "text": [
      "vilnius yra nuostabus miestas\n",
      "Kaunas yra nuostabus miestas\n",
      "Klaipeda yra nuostabus miestas\n"
     ]
    }
   ],
   "source": [
    "miestai = ['vilnius', 'Kaunas', 'Klaipeda']\n",
    "for x in miestai: \n",
    "    print(f'{x} yra nuostabus miestas')"
   ]
  },
  {
   "cell_type": "code",
   "execution_count": 73,
   "metadata": {},
   "outputs": [
    {
     "name": "stdout",
     "output_type": "stream",
     "text": [
      "9\n",
      "1849\n"
     ]
    }
   ],
   "source": [
    "for number in range(3,46,4):\n",
    "    print ( number**2)"
   ]
  },
  {
   "cell_type": "code",
   "execution_count": 76,
   "metadata": {},
   "outputs": [
    {
     "name": "stdout",
     "output_type": "stream",
     "text": [
      "tarpine suma: 13.4\n",
      "tarpine sandauga: 13.4\n",
      "tarpine suma: 159.85\n",
      "tarpine sandauga: 1962.4299999999998\n",
      "tarpine suma: 705.85\n",
      "tarpine sandauga: 1071486.7799999998\n",
      "tarpine suma: 759.85\n",
      "tarpine sandauga: 57860286.11999999\n",
      "galutine suma: 759.85\n",
      "galutine sandauga: 57860286.11999999\n"
     ]
    }
   ],
   "source": [
    "mokejimai = [ 13.4, 146.45, 546, 54]\n",
    "\n",
    "suma = 0\n",
    "sandauga = 1\n",
    "for mokeijmas in mokejimai:\n",
    "    suma += mokeijmas\n",
    "    print( f\"tarpine suma: {suma}\")\n",
    "    sandauga *= mokeijmas\n",
    "    print( f\"tarpine sandauga: {sandauga}\")\n",
    "\n",
    "print( f\"galutine suma: {suma}\")\n",
    "print( f\"galutine sandauga: {sandauga}\")"
   ]
  },
  {
   "cell_type": "code",
   "execution_count": 77,
   "metadata": {},
   "outputs": [
    {
     "name": "stdout",
     "output_type": "stream",
     "text": [
      "759.85\n"
     ]
    }
   ],
   "source": [
    "print( sum(mokejimai))"
   ]
  },
  {
   "cell_type": "code",
   "execution_count": 78,
   "metadata": {},
   "outputs": [],
   "source": [
    "# \n",
    "# https://docs.python.org/3/library/functions.html"
   ]
  },
  {
   "cell_type": "code",
   "execution_count": 79,
   "metadata": {},
   "outputs": [],
   "source": [
    "human_input = input('Koks jusu vardas?')"
   ]
  },
  {
   "cell_type": "code",
   "execution_count": 80,
   "metadata": {},
   "outputs": [
    {
     "name": "stdout",
     "output_type": "stream",
     "text": [
      "Natalija\n"
     ]
    }
   ],
   "source": [
    "print( human_input)"
   ]
  },
  {
   "cell_type": "code",
   "execution_count": 81,
   "metadata": {},
   "outputs": [],
   "source": [
    "human_input = input('Irasykite skaiciu nuo 1 iki 10')"
   ]
  },
  {
   "cell_type": "code",
   "execution_count": 83,
   "metadata": {},
   "outputs": [
    {
     "name": "stdout",
     "output_type": "stream",
     "text": [
      "7\n",
      "<class 'str'>\n"
     ]
    }
   ],
   "source": [
    "print( human_input)\n",
    "print( type(human_input ) )\n"
   ]
  },
  {
   "cell_type": "code",
   "execution_count": 95,
   "metadata": {},
   "outputs": [
    {
     "name": "stdout",
     "output_type": "stream",
     "text": [
      "1\n",
      "2\n",
      "3\n",
      "4\n",
      "5\n",
      "6\n",
      "7\n",
      "8\n",
      "9\n",
      "10\n",
      "antra dalis\n",
      "1275\n"
     ]
    }
   ],
   "source": [
    "#Atspausdinkite pirmus 10 imtinai skaičių naudodami for loop\n",
    "#loop1 = list (range(1,100,1))\n",
    "#for loop2 in loop1:\n",
    "#    print(loop2[:10])\n",
    "#print(list (range(1,100,1)))\n",
    "\n",
    "#Gaukite sumą pirmų 50 skaičių imtinai\n",
    "#sumai = list(range(1,100,1))\n",
    "#print(sumai)\n",
    "for skaicius in range (1,11):\n",
    "    print(skaicius)\n",
    "\n",
    "print ('antra dalis')\n",
    "suma = 0\n",
    "for skaicius in range (1,51):\n",
    "    # suma = suma + skaicius\n",
    "    suma += skaicius\n",
    "print(suma)\n"
   ]
  },
  {
   "cell_type": "code",
   "execution_count": 100,
   "metadata": {},
   "outputs": [
    {
     "name": "stdout",
     "output_type": "stream",
     "text": [
      "<class 'str'>\n",
      "3\n",
      "<class 'int'>\n",
      "3x1 = 3\n",
      "3x2 = 6\n",
      "3x3 = 9\n",
      "3x4 = 12\n",
      "3x5 = 15\n",
      "3x6 = 18\n",
      "3x7 = 21\n",
      "3x8 = 24\n",
      "3x9 = 27\n",
      "3x10 = 30\n"
     ]
    }
   ],
   "source": [
    "# Leiskite pasirinkti skaičių, atspausdinkite jo sandaugą nuo 1 iki 10 imtinai\n",
    "skaicius = input('iveskite skaiciu')\n",
    "print( type(skaicius) )\n",
    "skaicius = int( skaicius )\n",
    "print( skaicius)\n",
    "print( type(skaicius) )\n",
    "\n",
    "for x in range(1,11):\n",
    "    print(f'{skaicius}x{x} = {skaicius*x}')"
   ]
  },
  {
   "cell_type": "code",
   "execution_count": 105,
   "metadata": {},
   "outputs": [
    {
     "name": "stdout",
     "output_type": "stream",
     "text": [
      "Pirmadienis\n",
      "10\n",
      "mazo  ciklo pabaiga\n",
      "11\n",
      "mazo  ciklo pabaiga\n",
      "12\n",
      "mazo  ciklo pabaiga\n",
      "13\n",
      "mazo  ciklo pabaiga\n",
      "14\n",
      "mazo  ciklo pabaiga\n",
      "15\n",
      "mazo  ciklo pabaiga\n",
      "16\n",
      "mazo  ciklo pabaiga\n",
      "17\n",
      "mazo  ciklo pabaiga\n",
      "18\n",
      "mazo  ciklo pabaiga\n",
      "19\n",
      "mazo  ciklo pabaiga\n",
      "didelio ciklo pabaiga\n",
      "Antradienis\n",
      "10\n",
      "mazo  ciklo pabaiga\n",
      "11\n",
      "mazo  ciklo pabaiga\n",
      "12\n",
      "mazo  ciklo pabaiga\n",
      "13\n",
      "mazo  ciklo pabaiga\n",
      "14\n",
      "mazo  ciklo pabaiga\n",
      "15\n",
      "mazo  ciklo pabaiga\n",
      "16\n",
      "mazo  ciklo pabaiga\n",
      "17\n",
      "mazo  ciklo pabaiga\n",
      "18\n",
      "mazo  ciklo pabaiga\n",
      "19\n",
      "mazo  ciklo pabaiga\n",
      "didelio ciklo pabaiga\n",
      "Treciadienis\n",
      "10\n",
      "mazo  ciklo pabaiga\n",
      "11\n",
      "mazo  ciklo pabaiga\n",
      "12\n",
      "mazo  ciklo pabaiga\n",
      "13\n",
      "mazo  ciklo pabaiga\n",
      "14\n",
      "mazo  ciklo pabaiga\n",
      "15\n",
      "mazo  ciklo pabaiga\n",
      "16\n",
      "mazo  ciklo pabaiga\n",
      "17\n",
      "mazo  ciklo pabaiga\n",
      "18\n",
      "mazo  ciklo pabaiga\n",
      "19\n",
      "mazo  ciklo pabaiga\n",
      "didelio ciklo pabaiga\n",
      "Ketvirtadienis\n",
      "10\n",
      "mazo  ciklo pabaiga\n",
      "11\n",
      "mazo  ciklo pabaiga\n",
      "12\n",
      "mazo  ciklo pabaiga\n",
      "13\n",
      "mazo  ciklo pabaiga\n",
      "14\n",
      "mazo  ciklo pabaiga\n",
      "15\n",
      "mazo  ciklo pabaiga\n",
      "16\n",
      "mazo  ciklo pabaiga\n",
      "17\n",
      "mazo  ciklo pabaiga\n",
      "18\n",
      "mazo  ciklo pabaiga\n",
      "19\n",
      "mazo  ciklo pabaiga\n",
      "didelio ciklo pabaiga\n",
      "Penktadienis\n",
      "10\n",
      "mazo  ciklo pabaiga\n",
      "11\n",
      "mazo  ciklo pabaiga\n",
      "12\n",
      "mazo  ciklo pabaiga\n",
      "13\n",
      "mazo  ciklo pabaiga\n",
      "14\n",
      "mazo  ciklo pabaiga\n",
      "15\n",
      "mazo  ciklo pabaiga\n",
      "16\n",
      "mazo  ciklo pabaiga\n",
      "17\n",
      "mazo  ciklo pabaiga\n",
      "18\n",
      "mazo  ciklo pabaiga\n",
      "19\n",
      "mazo  ciklo pabaiga\n",
      "didelio ciklo pabaiga\n",
      "Sestadienis\n",
      "10\n",
      "mazo  ciklo pabaiga\n",
      "11\n",
      "mazo  ciklo pabaiga\n",
      "12\n",
      "mazo  ciklo pabaiga\n",
      "13\n",
      "mazo  ciklo pabaiga\n",
      "14\n",
      "mazo  ciklo pabaiga\n",
      "15\n",
      "mazo  ciklo pabaiga\n",
      "16\n",
      "mazo  ciklo pabaiga\n",
      "17\n",
      "mazo  ciklo pabaiga\n",
      "18\n",
      "mazo  ciklo pabaiga\n",
      "19\n",
      "mazo  ciklo pabaiga\n",
      "didelio ciklo pabaiga\n",
      "Sekmadienis\n",
      "10\n",
      "mazo  ciklo pabaiga\n",
      "11\n",
      "mazo  ciklo pabaiga\n",
      "12\n",
      "mazo  ciklo pabaiga\n",
      "13\n",
      "mazo  ciklo pabaiga\n",
      "14\n",
      "mazo  ciklo pabaiga\n",
      "15\n",
      "mazo  ciklo pabaiga\n",
      "16\n",
      "mazo  ciklo pabaiga\n",
      "17\n",
      "mazo  ciklo pabaiga\n",
      "18\n",
      "mazo  ciklo pabaiga\n",
      "19\n",
      "mazo  ciklo pabaiga\n",
      "didelio ciklo pabaiga\n",
      "[('Pirmadienis', 10), ('Pirmadienis', 11), ('Pirmadienis', 12), ('Pirmadienis', 13), ('Pirmadienis', 14), ('Pirmadienis', 15), ('Pirmadienis', 16), ('Pirmadienis', 17), ('Pirmadienis', 18), ('Pirmadienis', 19), ('Antradienis', 10), ('Antradienis', 11), ('Antradienis', 12), ('Antradienis', 13), ('Antradienis', 14), ('Antradienis', 15), ('Antradienis', 16), ('Antradienis', 17), ('Antradienis', 18), ('Antradienis', 19), ('Treciadienis', 10), ('Treciadienis', 11), ('Treciadienis', 12), ('Treciadienis', 13), ('Treciadienis', 14), ('Treciadienis', 15), ('Treciadienis', 16), ('Treciadienis', 17), ('Treciadienis', 18), ('Treciadienis', 19), ('Ketvirtadienis', 10), ('Ketvirtadienis', 11), ('Ketvirtadienis', 12), ('Ketvirtadienis', 13), ('Ketvirtadienis', 14), ('Ketvirtadienis', 15), ('Ketvirtadienis', 16), ('Ketvirtadienis', 17), ('Ketvirtadienis', 18), ('Ketvirtadienis', 19), ('Penktadienis', 10), ('Penktadienis', 11), ('Penktadienis', 12), ('Penktadienis', 13), ('Penktadienis', 14), ('Penktadienis', 15), ('Penktadienis', 16), ('Penktadienis', 17), ('Penktadienis', 18), ('Penktadienis', 19), ('Sestadienis', 10), ('Sestadienis', 11), ('Sestadienis', 12), ('Sestadienis', 13), ('Sestadienis', 14), ('Sestadienis', 15), ('Sestadienis', 16), ('Sestadienis', 17), ('Sestadienis', 18), ('Sestadienis', 19), ('Sekmadienis', 10), ('Sekmadienis', 11), ('Sekmadienis', 12), ('Sekmadienis', 13), ('Sekmadienis', 14), ('Sekmadienis', 15), ('Sekmadienis', 16), ('Sekmadienis', 17), ('Sekmadienis', 18), ('Sekmadienis', 19)]\n"
     ]
    }
   ],
   "source": [
    "dienos = ('Pirmadienis', 'Antradienis', 'Treciadienis','Ketvirtadienis', 'Penktadienis', 'Sestadienis' , 'Sekmadienis')\n",
    "valandos = [10, 11, 12, 13, 14, 15, 16, 17, 18, 19]\n",
    "\n",
    "kombinacijos = []\n",
    "\n",
    "for diena in dienos:\n",
    "    print(diena)\n",
    "    for valanda in valandos:\n",
    "        print(valanda)\n",
    "        kombinacijos.append( (diena, valanda) )\n",
    "        print('mazo  ciklo pabaiga')\n",
    "    print('didelio ciklo pabaiga')\n",
    "print(kombinacijos)"
   ]
  },
  {
   "cell_type": "markdown",
   "metadata": {},
   "source": [
    "#If statement (if salygos)"
   ]
  },
  {
   "cell_type": "code",
   "execution_count": 113,
   "metadata": {},
   "outputs": [
    {
     "name": "stdout",
     "output_type": "stream",
     "text": [
      "Jums tarp 8 ir 12 metu\n"
     ]
    }
   ],
   "source": [
    "age = int( input('iveskite amziu: '))\n",
    "\n",
    "# vykdoma tik viena dalis, kuri True. Eina nuo virsaus, jei sutinka kur tinka toliau netikrina\n",
    "if age >= 18:\n",
    "    print(f'Jums yra {age} metu, jus esate pilnametis')\n",
    "#elif age > 2:      Eina nuo virsaus, jei sutinka kur tinka toliau netikrina. Taip netinka!!!!!!!!!!!!!!!!!!!!!!!!\n",
    "#    print(f'Jums tarp 2 ir 8 metu')\n",
    "elif age > 12:\n",
    "    print(f'Jums tarp 12 ir 18 metu')\n",
    "elif age > 8:\n",
    "    print(f'Jums tarp 8 ir 12 metu')\n",
    "else:\n",
    "    print('Jus esate nepilnametis')"
   ]
  },
  {
   "cell_type": "code",
   "execution_count": 115,
   "metadata": {},
   "outputs": [
    {
     "name": "stdout",
     "output_type": "stream",
     "text": [
      "9\n",
      "nelyginis\n"
     ]
    }
   ],
   "source": [
    "x = int( input('iveskite skaiciu: '))\n",
    "print( x )\n",
    "\n",
    "if x % 2 ==  0:\n",
    "    print('lyginis')\n",
    "else:\n",
    "    print('nelyginis')\n"
   ]
  },
  {
   "cell_type": "code",
   "execution_count": 132,
   "metadata": {},
   "outputs": [
    {
     "name": "stdout",
     "output_type": "stream",
     "text": [
      "dalinasi is 3\n",
      "3\n",
      "dalinasi is 3\n",
      "6\n",
      "dalinasi is 3\n",
      "9\n",
      "dalinasi is 3\n",
      "12\n",
      "dalinasi is 3\n",
      "15\n",
      "dalinasi is 3\n",
      "18\n"
     ]
    }
   ],
   "source": [
    "#Tikrinant skaičius nuo 1 iki 20, atspausdinkite skaičius, kurie dalinasi iš 3 be liekanos. Naudokite for loop ir if\n",
    "\n",
    "for skaicius in range (1,21):\n",
    "    if skaicius % 3 == 0:\n",
    "        print('dalinasi is 3')\n",
    "        print(skaicius)\n",
    "\n"
   ]
  },
  {
   "cell_type": "code",
   "execution_count": 140,
   "metadata": {},
   "outputs": [
    {
     "name": "stdout",
     "output_type": "stream",
     "text": [
      "suma dalinasi is 2\n",
      "2\n",
      "suma dalinasi is 2\n",
      "6\n",
      "suma dalinasi is 2\n",
      "12\n",
      "suma dalinasi is 2\n",
      "20\n",
      "suma dalinasi is 2\n",
      "30\n",
      "suma dalinasi is 2\n",
      "42\n",
      "suma dalinasi is 2\n",
      "56\n",
      "suma dalinasi is 2\n",
      "72\n",
      "suma dalinasi is 2\n",
      "90\n",
      "suma dalinasi is 2\n",
      "110\n",
      "suma dalinasi is 2\n",
      "132\n",
      "suma dalinasi is 2\n",
      "156\n",
      "suma dalinasi is 2\n",
      "182\n",
      "suma dalinasi is 2\n",
      "210\n",
      "suma dalinasi is 2\n",
      "240\n",
      "suma dalinasi is 2\n",
      "272\n",
      "suma dalinasi is 2\n",
      "306\n",
      "suma dalinasi is 2\n",
      "342\n",
      "suma dalinasi is 2\n",
      "380\n",
      "suma dalinasi is 2\n",
      "420\n",
      "suma dalinasi is 2\n",
      "462\n",
      "suma dalinasi is 2\n",
      "506\n",
      "suma dalinasi is 2\n",
      "552\n",
      "suma dalinasi is 2\n",
      "600\n",
      "suma dalinasi is 2\n",
      "650\n"
     ]
    }
   ],
   "source": [
    "# Tikrinant skaičius nuo 1 iki 50, pridėkite skaičių prie sumos, jei nauja einama suma bus lyginė\n",
    "suma = 0\n",
    "for skaicius in range (1,51):\n",
    "#    print(skaicius)\n",
    "    if (suma + skaicius) % 2 == 0:\n",
    "        print('suma dalinasi is 2')\n",
    "        suma += skaicius\n",
    "        print(suma)\n"
   ]
  },
  {
   "cell_type": "code",
   "execution_count": 143,
   "metadata": {},
   "outputs": [
    {
     "name": "stdout",
     "output_type": "stream",
     "text": [
      "3\n",
      "6\n",
      "9\n",
      "12\n",
      "15\n",
      "18\n",
      "21\n",
      "24\n",
      "27\n",
      "30\n"
     ]
    }
   ],
   "source": [
    "# Leiskite pasirinkti skaičių, atspausdinkite jo sandaugą nuo 1 iki 10 tik tada, jei pasirinktas skaičius pakeltas kvadratu yra nelyginis\n",
    "pasirinktas_skaicius = int( input('iveskite skaiciu') )\n",
    "\n",
    "if (pasirinktas_skaicius ** 2) % 2 != 0:\n",
    "    for i in range(1,11):\n",
    "        print( pasirinktas_skaicius * i )\n",
    "else:\n",
    "    print( 'pasirinktas skaičius pakeltas kvadratu yra lyginis' )"
   ]
  }
 ],
 "metadata": {
  "kernelspec": {
   "display_name": "Python 3",
   "language": "python",
   "name": "python3"
  },
  "language_info": {
   "codemirror_mode": {
    "name": "ipython",
    "version": 3
   },
   "file_extension": ".py",
   "mimetype": "text/x-python",
   "name": "python",
   "nbconvert_exporter": "python",
   "pygments_lexer": "ipython3",
   "version": "3.11.1"
  },
  "orig_nbformat": 4,
  "vscode": {
   "interpreter": {
    "hash": "af7a13de55b9033a0d92a6d05b8c21ff0ad3196d66c7143d42430bfd0fb75a53"
   }
  }
 },
 "nbformat": 4,
 "nbformat_minor": 2
}
