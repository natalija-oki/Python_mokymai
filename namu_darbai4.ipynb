{
 "cells": [
  {
   "cell_type": "code",
   "execution_count": 7,
   "metadata": {},
   "outputs": [],
   "source": [
    "# 1. (Pabaigti) Parašykite funkciją, kuri priima du list tipo kintamuosius, iš pirmojo filtro išimam visas reikšmes didesnes nei 10, antrame palieka tik reikšmes kurių reikšmės susideda bent iš dviejų skaitmenų, \n",
    "# pirmojo listo reikšmes sudėkite, antrojo taip pat sudėkite, grąžinkite sandaugą iš dviejų modifikuotų listų.\n",
    "\n",
    "# Parašykite funkciją, kuri priima du list tipo kintamuosius, iš pirmojo filtro išimam visas reikšmes didesnes nei 10, \n",
    "# antrame palieka tik reikšmes kurių reikšmės susideda bent iš dviejų skaitmenų, pirmojo listo reikšmes sudėkite, \n",
    "# antrojo taip pat sudėkite, grąžinkite sandaugą iš dviejų modifikuotų listų\n",
    "\n",
    "# def functionExcersice( list_1, list_2): # tas pats \n",
    "def functionExercise( list_1: list, list_2: list):\n",
    "    list_1 = list( filter(lambda x: x <= 10, list_1) )\n",
    "    # print (list_1)\n",
    "    list_2 =  list(filter(lambda x: abs( x ) >= 10 , list_2) ) # o kas jei neigiamas dvizenklis???? abs()\n",
    "    # print (list_2)\n",
    "    sum_1 = sum(list_1)\n",
    "    sum_2 = sum(list_2)\n",
    "    # print(sum_1)\n",
    "    # print(sum_2)\n",
    "    return sum_1 * sum_2\n",
    "\n",
    "\n"
   ]
  },
  {
   "cell_type": "code",
   "execution_count": 8,
   "metadata": {},
   "outputs": [
    {
     "data": {
      "text/plain": [
       "26214"
      ]
     },
     "execution_count": 8,
     "metadata": {},
     "output_type": "execute_result"
    }
   ],
   "source": [
    "functionExercise([10,9,6,16,15,55,2,7],[20,642,33,76,9,7,2])"
   ]
  },
  {
   "cell_type": "code",
   "execution_count": 44,
   "metadata": {},
   "outputs": [],
   "source": [
    "#suma = sum(list_1) + sum(list_2)\n",
    "#print(suma)"
   ]
  },
  {
   "cell_type": "code",
   "execution_count": 10,
   "metadata": {},
   "outputs": [
    {
     "name": "stdout",
     "output_type": "stream",
     "text": [
      "list_3[idx] yra 17, o list_3[idx + 1] yra 18\n",
      "list_3[idx] + 1 yra 18, o list_3[idx + 1] yra 18\n",
      "Anomalijos tarp skaiciu 17 ir 18 nera\n",
      "list_3[idx] yra 18, o list_3[idx + 1] yra 19\n",
      "list_3[idx] + 1 yra 19, o list_3[idx + 1] yra 19\n",
      "Anomalijos tarp skaiciu 18 ir 19 nera\n",
      "list_3[idx] yra 19, o list_3[idx + 1] yra 21\n",
      "list_3[idx] + 1 yra 20, o list_3[idx + 1] yra 21\n",
      "Anomalija tarp skaiciu 19 ir 21. Skirtumas yra 2\n",
      "list_3[idx] yra 21, o list_3[idx + 1] yra 24\n",
      "list_3[idx] + 1 yra 22, o list_3[idx + 1] yra 24\n",
      "Anomalija tarp skaiciu 21 ir 24. Skirtumas yra 3\n"
     ]
    }
   ],
   "source": [
    "# 2. Parašykite funkciją, kuri priims listą ir patikrins ar listo narys n+1 yra 1 didesnis nei n, jeigu visi listo nariai einantys vienas po kito yra didesni per 1, \n",
    "# vadinasi anomalijos nėra, jei nors 1 narys neatitinka sekos, vadinasi yra anomalija\n",
    "\n",
    "list_3 = [17,18,19,21, 24]\n",
    "\n",
    "for idx in range(0, len(list_3) - 1 ):\n",
    "    print(f'list_3[idx] yra {list_3[idx] }, o list_3[idx + 1] yra {list_3[idx + 1]}')\n",
    "    # print(f'list_3[0] yra {list_3[0] }, o list_3[0 + 1] yra {list_3[0 + 1]}')\n",
    "    print(f'list_3[idx] + 1 yra {list_3[idx] + 1 }, o list_3[idx + 1] yra {list_3[idx + 1]}')\n",
    "    if list_3[idx] + 1 == list_3[idx + 1]:\n",
    "        print(f'Anomalijos tarp skaiciu {list_3[idx]} ir {list_3[idx+1]} nera')\n",
    "    else:\n",
    "        print(f'Anomalija tarp skaiciu {list_3[idx]} ir {list_3[idx+1]}. Skirtumas yra {list_3[idx+1] -  list_3[idx]}')"
   ]
  },
  {
   "cell_type": "code",
   "execution_count": 31,
   "metadata": {},
   "outputs": [
    {
     "name": "stdout",
     "output_type": "stream",
     "text": [
      "Kliento kodas: 4 5Az.9;Bv 8\n",
      "Stringe yra 4 raides, 4 skaiciai, 2 zenklai, 2 tarpai\n"
     ]
    }
   ],
   "source": [
    "# 3. Parašykite funkciją, kuri priims string tipo kintamąjį, gražinkite kiek tame stringę yra raidžių, skaičių ir skyrybos (specialių) ženklų, tarpų.\n",
    "\n",
    "def stringas(kodas):\n",
    "   return f'Kliento kodas: {kodas}'\n",
    "\n",
    "input_stringas = '4 5Az.9;Bv 8'\n",
    "\n",
    "print(stringas(input_stringas))\n",
    "\n",
    "raides = 0\n",
    "skaiciai = 0\n",
    "zenklai = 0\n",
    "tarpai = 0\n",
    "\n",
    "for simb in input_stringas:\n",
    "    if simb.isalpha():\n",
    "        raides += 1\n",
    "    elif simb.isdigit():\n",
    "        skaiciai += 1\n",
    "    elif simb.isspace():\n",
    "        tarpai += 1\n",
    "    else:#elif simb in stringas.punctuation:\n",
    "        zenklai += 1\n",
    "\n",
    "print(f'Stringe yra {raides} raides, {skaiciai} skaiciai, {zenklai} zenklai, {tarpai} tarpai')"
   ]
  },
  {
   "cell_type": "code",
   "execution_count": 35,
   "metadata": {},
   "outputs": [
    {
     "name": "stdout",
     "output_type": "stream",
     "text": [
      "[0, 2, 4, 6, 8, 10, 12, 14, 16, 18, 20]\n"
     ]
    }
   ],
   "source": [
    "# 4. Parašykite funkciją, kuri priima tris skaičius, jie reikš nuo, iki ir žingsnis. Funkcija turi grąžinti listą skaičių tokių, kokius padavėte funkcijai.\n",
    "\n",
    "def funkcija(nuo, iki, zingsnis):\n",
    "    listas = []# paduodu tuscia lista\n",
    "    pirmas_skaicius = nuo\n",
    "    while pirmas_skaicius <= iki:# kol pirmas nesusilygina su paskutiniu\n",
    "        listas.append(pirmas_skaicius)#idedu pirma ir sek skaicius\n",
    "        pirmas_skaicius += zingsnis# pridedu zingsni\n",
    "    return listas\n",
    "\n",
    "sarasas = funkcija(0,20,2)\n",
    "print(sarasas)"
   ]
  },
  {
   "cell_type": "code",
   "execution_count": 43,
   "metadata": {},
   "outputs": [
    {
     "name": "stdout",
     "output_type": "stream",
     "text": [
      "12\n"
     ]
    }
   ],
   "source": [
    "# 5.  Parašyti funkciją, kuri priima vieną list tipo kintamąjį, funkcija grąžina skirtumą tarp didžiausio skaičiaus ir mažiausio skaičiaus.\n",
    "def funk_vien_kint(vien_kint):\n",
    "    maziausias = vien_kint[0]#vienas argumentas\n",
    "    didziausias = vien_kint[0]#vienas argumentas\n",
    "    for skaicius in vien_kint:\n",
    "        if skaicius < maziausias:#  tikrina visus ir palieka maziausia kaip maziausia\n",
    "            maziausias = skaicius\n",
    "        elif skaicius > didziausias:\n",
    "            didziausias = skaicius\n",
    "    return didziausias - maziausias# atimu is didziausio - maziausia skaiciu\n",
    "\n",
    "skaiciai = [10, 3, 9, 15]\n",
    "rezultatas = funk_vien_kint(skaiciai)\n",
    "print(rezultatas)"
   ]
  }
 ],
 "metadata": {
  "kernelspec": {
   "display_name": "Python 3",
   "language": "python",
   "name": "python3"
  },
  "language_info": {
   "codemirror_mode": {
    "name": "ipython",
    "version": 3
   },
   "file_extension": ".py",
   "mimetype": "text/x-python",
   "name": "python",
   "nbconvert_exporter": "python",
   "pygments_lexer": "ipython3",
   "version": "3.11.1"
  },
  "orig_nbformat": 4,
  "vscode": {
   "interpreter": {
    "hash": "af7a13de55b9033a0d92a6d05b8c21ff0ad3196d66c7143d42430bfd0fb75a53"
   }
  }
 },
 "nbformat": 4,
 "nbformat_minor": 2
}
