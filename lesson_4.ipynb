{
 "cells": [
  {
   "cell_type": "markdown",
   "metadata": {},
   "source": [
    "# List comprehension"
   ]
  },
  {
   "cell_type": "code",
   "execution_count": 1,
   "metadata": {},
   "outputs": [
    {
     "name": "stdout",
     "output_type": "stream",
     "text": [
      "[3, 6, 9, 12, 15, 18]\n"
     ]
    }
   ],
   "source": [
    "numbers = list(range(1,21))\n",
    "divisible_by_3 = []\n",
    "for number in numbers:\n",
    "    if number %3 == 0:\n",
    "        divisible_by_3.append(number)\n",
    "print(divisible_by_3)"
   ]
  },
  {
   "cell_type": "code",
   "execution_count": 2,
   "metadata": {},
   "outputs": [
    {
     "name": "stdout",
     "output_type": "stream",
     "text": [
      "[3, 6, 9, 12, 15, 18]\n"
     ]
    }
   ],
   "source": [
    "divisible_by_3 = [ number for number in numbers if number % 3 == 0]\n",
    "print(divisible_by_3)"
   ]
  },
  {
   "cell_type": "code",
   "execution_count": 3,
   "metadata": {},
   "outputs": [
    {
     "name": "stdout",
     "output_type": "stream",
     "text": [
      "[30, 60, 90, 120, 150, 180]\n"
     ]
    }
   ],
   "source": [
    "divisible_by_3 = [ number * 10 for number in numbers if number % 3 == 0]\n",
    "print(divisible_by_3)"
   ]
  },
  {
   "cell_type": "code",
   "execution_count": 4,
   "metadata": {},
   "outputs": [
    {
     "name": "stdout",
     "output_type": "stream",
     "text": [
      "[40, 80, 120, 160, 200]\n"
     ]
    }
   ],
   "source": [
    "divisible_by_3 = [ number * 10 for number in numbers if number % 4 == 0]\n",
    "print(divisible_by_3)"
   ]
  },
  {
   "cell_type": "code",
   "execution_count": 5,
   "metadata": {},
   "outputs": [
    {
     "name": "stdout",
     "output_type": "stream",
     "text": [
      "['1 nesidalina is 3', '2 nesidalina is 3', 3, '4 nesidalina is 3', '5 nesidalina is 3', 6, '7 nesidalina is 3', '8 nesidalina is 3', 9, '10 nesidalina is 3', '11 nesidalina is 3', 12, '13 nesidalina is 3', '14 nesidalina is 3', 15, '16 nesidalina is 3', '17 nesidalina is 3', 18, '19 nesidalina is 3', '20 nesidalina is 3']\n"
     ]
    }
   ],
   "source": [
    "divisible_by_3 = [ number if number %3 == 0 else f'{number} nesidalina is 3' for number in range(1,21)]\n",
    "print(divisible_by_3)"
   ]
  },
  {
   "cell_type": "code",
   "execution_count": 7,
   "metadata": {},
   "outputs": [
    {
     "name": "stdout",
     "output_type": "stream",
     "text": [
      "[2, 4, 6, 8, 10, 12, 14, 16, 18, 20, 22, 24, 26, 28, 30, 32, 34, 36, 38, 40]\n"
     ]
    }
   ],
   "source": [
    "doubled = [ number * 2 for number in numbers]\n",
    "print(doubled)"
   ]
  },
  {
   "attachments": {},
   "cell_type": "markdown",
   "metadata": {},
   "source": [
    "# None a.k.a null, nill, Nan - Not a Number"
   ]
  },
  {
   "cell_type": "code",
   "execution_count": 8,
   "metadata": {},
   "outputs": [
    {
     "name": "stdout",
     "output_type": "stream",
     "text": [
      "None\n",
      "<class 'NoneType'>\n"
     ]
    }
   ],
   "source": [
    "niekas = None\n",
    "print( niekas )\n",
    "print( type(niekas))"
   ]
  },
  {
   "cell_type": "code",
   "execution_count": 11,
   "metadata": {},
   "outputs": [],
   "source": [
    "import random\n",
    "vardas = ''\n",
    "if random.random() > 0.5:\n",
    "    vardas = input('Iveskite varda: ')\n",
    "\n",
    "if vardas != '':\n",
    "    print(f'Sveikas {vardas}!')\n"
   ]
  },
  {
   "cell_type": "code",
   "execution_count": 17,
   "metadata": {},
   "outputs": [
    {
     "name": "stdout",
     "output_type": "stream",
     "text": [
      "Jus nenurodete savo vardo\n"
     ]
    }
   ],
   "source": [
    "import random\n",
    "vardas = None\n",
    "if random.random() > 0.5:\n",
    "    vardas = input('Iveskite varda: ')\n",
    "\n",
    "if vardas != None and vardas != '':\n",
    "    print(f'Sveikas {vardas}!')\n",
    "elif vardas != None and vardas == '':\n",
    "    print(f'Nepavyko nuskaityti jusu vardo. Bandykite dar karta')\n",
    "else:\n",
    "    print('Jus nenurodete savo vardo')\n"
   ]
  },
  {
   "cell_type": "code",
   "execution_count": 19,
   "metadata": {},
   "outputs": [
    {
     "name": "stdout",
     "output_type": "stream",
     "text": [
      "None\n",
      "[1, 100]\n",
      "1\n"
     ]
    }
   ],
   "source": [
    "list_1 = [1]\n",
    "print( list_1.append(100))\n",
    "print(list_1)\n",
    "print(list_1.count(1))"
   ]
  },
  {
   "cell_type": "markdown",
   "metadata": {},
   "source": [
    "# Dictionary"
   ]
  },
  {
   "cell_type": "code",
   "execution_count": 20,
   "metadata": {},
   "outputs": [
    {
     "name": "stdout",
     "output_type": "stream",
     "text": [
      "{'vardas': 'Darius', 'pavarde': 'Grigeliunas', 'amzius': 27}\n"
     ]
    }
   ],
   "source": [
    "me = {\n",
    "    'vardas': 'Darius',#raktas: verte\n",
    "    'pavarde': 'Grigeliunas',\n",
    "    'amzius': 27\n",
    "}\n",
    "print(me)"
   ]
  },
  {
   "cell_type": "code",
   "execution_count": 28,
   "metadata": {},
   "outputs": [
    {
     "ename": "KeyError",
     "evalue": "0",
     "output_type": "error",
     "traceback": [
      "\u001b[1;31m---------------------------------------------------------------------------\u001b[0m",
      "\u001b[1;31mKeyError\u001b[0m                                  Traceback (most recent call last)",
      "Cell \u001b[1;32mIn[28], line 1\u001b[0m\n\u001b[1;32m----> 1\u001b[0m me[\u001b[39m0\u001b[39;49m]\u001b[39m#neduoda indekso\u001b[39;00m\n\u001b[0;32m      2\u001b[0m me[\u001b[39m'\u001b[39m\u001b[39mneegzistuojantis_raktas\u001b[39m\u001b[39m'\u001b[39m]\n",
      "\u001b[1;31mKeyError\u001b[0m: 0"
     ]
    }
   ],
   "source": [
    "me[0]#neduoda indekso\n",
    "me['neegzistuojantis_raktas']"
   ]
  },
  {
   "cell_type": "code",
   "execution_count": 23,
   "metadata": {},
   "outputs": [
    {
     "name": "stdout",
     "output_type": "stream",
     "text": [
      "Darius\n",
      "Grigeliunas\n",
      "27\n"
     ]
    }
   ],
   "source": [
    "print( me[ 'vardas' ] )\n",
    "print( me[ 'pavarde' ] )\n",
    "print( me[ 'amzius' ] )"
   ]
  },
  {
   "cell_type": "code",
   "execution_count": 24,
   "metadata": {},
   "outputs": [
    {
     "name": "stdout",
     "output_type": "stream",
     "text": [
      "{'vardas': 'Darius', 'pavarde': 'Grigeliunas', 'amzius': 27, 'miestas': 'Vilnius'}\n"
     ]
    }
   ],
   "source": [
    "# prideti naujus narius\n",
    "me[ 'miestas' ] = 'Vilnius'\n",
    "print( me )"
   ]
  },
  {
   "cell_type": "code",
   "execution_count": 25,
   "metadata": {},
   "outputs": [
    {
     "name": "stdout",
     "output_type": "stream",
     "text": [
      "{'vardas': 'Darius', 'pavarde': 'Grigeliunas', 'amzius': 27, 'miestas': 'Vilnius', 'hobiai': ['tenisas', 'dviraciai']}\n"
     ]
    }
   ],
   "source": [
    "me[ 'hobiai' ] = ['tenisas', 'dviraciai']\n",
    "print( me )"
   ]
  },
  {
   "cell_type": "code",
   "execution_count": null,
   "metadata": {},
   "outputs": [],
   "source": [
    "# zodine gali buti bet kokia info, ir kiti zodinai"
   ]
  },
  {
   "cell_type": "code",
   "execution_count": 27,
   "metadata": {},
   "outputs": [
    {
     "name": "stdout",
     "output_type": "stream",
     "text": [
      "tiesa\n",
      "netiesa\n",
      "none verte\n"
     ]
    }
   ],
   "source": [
    "someone = {\n",
    "    True: 'tiesa',\n",
    "    False: 'netiesa',\n",
    "    None: 'none verte'\n",
    "}\n",
    "print ( someone[True] )\n",
    "print ( someone[False] )\n",
    "print ( someone[None] )"
   ]
  },
  {
   "cell_type": "code",
   "execution_count": 31,
   "metadata": {},
   "outputs": [
    {
     "name": "stdout",
     "output_type": "stream",
     "text": [
      "[{'vardas': 'Jonas', 'amzius': 35}, {'vardas': 'Petras', 'amzius': 50}, {'vardas': 'Mantas', 'amzius': 40}]\n",
      "{'vardas': 'Jonas', 'amzius': 35}\n",
      "Jonas\n",
      "for loop\n",
      "Jonas\n",
      "Petras\n",
      "Mantas\n"
     ]
    }
   ],
   "source": [
    "zmones = [\n",
    "    {'vardas': 'Jonas', 'amzius': 35},\n",
    "    {'vardas': 'Petras', 'amzius': 50},\n",
    "    {'vardas': 'Mantas', 'amzius': 40}\n",
    "]\n",
    "print(zmones)\n",
    "print( zmones[0] )\n",
    "print( zmones[0]['vardas'] )\n",
    "\n",
    "print('for loop')\n",
    "for zmogus in zmones:\n",
    "    print( zmogus['vardas'] )"
   ]
  },
  {
   "cell_type": "code",
   "execution_count": 32,
   "metadata": {},
   "outputs": [
    {
     "name": "stdout",
     "output_type": "stream",
     "text": [
      "{'vardas': 'Darius', 'pavarde': 'Grigeliunas', 'amzius': 27, 'miestas': 'Vilnius', 'hobiai': ['tenisas', 'dviraciai']}\n",
      "5\n"
     ]
    }
   ],
   "source": [
    "#turi ilgi\n",
    "print(me)\n",
    "print(len(me))"
   ]
  },
  {
   "cell_type": "code",
   "execution_count": 36,
   "metadata": {},
   "outputs": [
    {
     "name": "stdout",
     "output_type": "stream",
     "text": [
      "{'vardas': 'Darius', 'pavarde': 'Grigeliunas', 'amzius': 27, 'miestas': 'Vilnius', 'hobiai': ['tenisas', 'dviraciai']}\n",
      "27\n",
      "{'vardas': 'Darius', 'pavarde': 'Grigeliunas', 'miestas': 'Vilnius', 'hobiai': ['tenisas', 'dviraciai']}\n",
      "{'vardas': 'Darius', 'pavarde': 'Grigeliunas', 'hobiai': ['tenisas', 'dviraciai']}\n"
     ]
    }
   ],
   "source": [
    "# isimti reiksme\n",
    "me = {'vardas': 'Darius', 'pavarde': 'Grigeliunas', 'amzius': 27, 'miestas': 'Vilnius', 'hobiai': ['tenisas', 'dviraciai']}\n",
    "print(me)\n",
    "print(me.pop('amzius'))# butinai nurodyti raktazodi\n",
    "print(me)\n",
    "\n",
    "del me['miestas']# del veikia su visais sarasai, listai ir pan\n",
    "print(me)"
   ]
  },
  {
   "cell_type": "markdown",
   "metadata": {},
   "source": [
    "# Dictionary is mutable. Be carefull"
   ]
  },
  {
   "cell_type": "code",
   "execution_count": null,
   "metadata": {},
   "outputs": [],
   "source": [
    "# look at lesson 3"
   ]
  },
  {
   "cell_type": "code",
   "execution_count": 37,
   "metadata": {},
   "outputs": [
    {
     "name": "stdout",
     "output_type": "stream",
     "text": [
      "{'vardas': 'Darius', 'pavarde': 'Grigeliunas', 'hobiai': ['tenisas', 'dviraciai']}\n"
     ]
    }
   ],
   "source": [
    "print(me)"
   ]
  },
  {
   "cell_type": "code",
   "execution_count": 40,
   "metadata": {},
   "outputs": [
    {
     "name": "stdout",
     "output_type": "stream",
     "text": [
      "('hobiai', ['tenisas', 'dviraciai'])\n",
      "{'vardas': 'Darius', 'pavarde': 'Grigeliunas', 'amzius': 27, 'miestas': 'Vilnius'}\n"
     ]
    }
   ],
   "source": [
    "# me.clear()# istrina visa info is zodino - nelabai ir naudojama\n",
    "# me.copy# nukopijuoja zodina ir duoda kopija - geriau deepcopy\n",
    "me = {'vardas': 'Darius', 'pavarde': 'Grigeliunas', 'amzius': 27, 'miestas': 'Vilnius', 'hobiai': ['tenisas', 'dviraciai']}\n",
    "print(me.popitem())# panaikina viena info, pati pasirenka ir istrina\n",
    "print(me)\n",
    "#print(me.popitem()) # jei leidi kelis kartus vis po viena panaikina\n",
    "#print(me.popitem())"
   ]
  },
  {
   "cell_type": "code",
   "execution_count": 43,
   "metadata": {},
   "outputs": [
    {
     "name": "stdout",
     "output_type": "stream",
     "text": [
      "None\n",
      "nerastas\n",
      "0\n",
      "27\n"
     ]
    }
   ],
   "source": [
    "me = {'vardas': 'Darius', 'pavarde': 'Grigeliunas', 'amzius': 27, 'miestas': 'Vilnius', 'hobiai': ['tenisas', 'dviraciai']}\n",
    "\n",
    "#me['neegzistuojantis_raktas']\n",
    "print(me.get('neegzistuojantis_raktas')) # nera klaidos\n",
    "print(me.get('neegzistuojantis_raktas', 'nerastas'))# po , nurodome ka norim gauti\n",
    "print(me.get('neegzistuojantis_raktas', 0))# po , nurodome ka norim gauti\n",
    "\n",
    "print(me.get('amzius', 0))# jei yra isveda amziu, jei nera tai 0"
   ]
  },
  {
   "cell_type": "code",
   "execution_count": 45,
   "metadata": {},
   "outputs": [
    {
     "name": "stdout",
     "output_type": "stream",
     "text": [
      "{'vardas': 'Tomas', 'pavarde': 'Grigeliunas', 'amzius': 27, 'miestas': 'Vilnius', 'hobiai': ['tenisas', 'dviraciai']}\n"
     ]
    }
   ],
   "source": [
    "me = {'vardas': 'Darius', 'pavarde': 'Grigeliunas'}\n",
    "updated_info = {'vardas': 'Tomas', 'pavarde': 'Grigeliunas', 'amzius': 27, 'miestas': 'Vilnius', 'hobiai': ['tenisas', 'dviraciai']}\n",
    "\n",
    "#me['vardas'] = updated_info['vardas'] # labai nepatogu ir ilgai\n",
    "\n",
    "me.update( updated_info )\n",
    "print(me)\n",
    "\n",
    "# negali buti 2 vienodi raktazodziai, raktazodis unikalus"
   ]
  },
  {
   "cell_type": "code",
   "execution_count": 46,
   "metadata": {},
   "outputs": [
    {
     "name": "stdout",
     "output_type": "stream",
     "text": [
      "Tomas\n",
      "Grigeliunas\n",
      "27\n",
      "Vilnius\n",
      "['tenisas', 'dviraciai']\n"
     ]
    }
   ],
   "source": [
    "for value in me.values():# values grazina visas vertes es musu zodine\n",
    "    print( value )"
   ]
  },
  {
   "cell_type": "code",
   "execution_count": 49,
   "metadata": {},
   "outputs": [
    {
     "name": "stdout",
     "output_type": "stream",
     "text": [
      "vardas\n",
      "pavarde\n",
      "amzius\n",
      "miestas\n",
      "hobiai\n"
     ]
    }
   ],
   "source": [
    "for key in me.keys():# keys grazina visus raktazodzius es musu zodine\n",
    "    print( key )"
   ]
  },
  {
   "cell_type": "code",
   "execution_count": 50,
   "metadata": {},
   "outputs": [
    {
     "name": "stdout",
     "output_type": "stream",
     "text": [
      "vardas\n",
      "pavarde\n",
      "amzius\n",
      "miestas\n",
      "hobiai\n"
     ]
    }
   ],
   "source": [
    "for key in me:# jei nieko nenurodom, grazina visus raktazodzius\n",
    "    print( key )"
   ]
  },
  {
   "cell_type": "code",
   "execution_count": 52,
   "metadata": {},
   "outputs": [
    {
     "name": "stdout",
     "output_type": "stream",
     "text": [
      "key is 'vardas' with a value of: 'Tomas'\n",
      "key is 'pavarde' with a value of: 'Grigeliunas'\n",
      "key is 'amzius' with a value of: '27'\n",
      "key is 'miestas' with a value of: 'Vilnius'\n",
      "key is 'hobiai' with a value of: '['tenisas', 'dviraciai']'\n"
     ]
    }
   ],
   "source": [
    "for key, value in me.items():\n",
    "    print (f\"key is '{key}' with a value of: '{value}'\")# grazian raktazodi ir verte"
   ]
  },
  {
   "cell_type": "code",
   "execution_count": null,
   "metadata": {},
   "outputs": [],
   "source": [
    "#pvz. twiter: https://developer.twitter.com/en/docs/twitter-api/data-dictionary/example-payloads"
   ]
  },
  {
   "cell_type": "code",
   "execution_count": 58,
   "metadata": {},
   "outputs": [
    {
     "data": {
      "text/plain": [
       "125"
      ]
     },
     "execution_count": 58,
     "metadata": {},
     "output_type": "execute_result"
    }
   ],
   "source": [
    "twitter_post = {\n",
    "  \"created_at\": \"Tue Feb 27 21:11:40 +0000 2018\",\n",
    "  \"id\": 968594506663669800,\n",
    "  \"id_str\": \"968594506663669760\",\n",
    "  \"text\": \"RT @honeydrop_506: 180222 ICN #백현 #BAEKHYUNnn나의 겨울과 너nn#iHeartAwards #BestFanArmy #EXOL @weareoneEXO https://t.co/hg7I3xAlBg\",\n",
    "  \"truncated\": False,\n",
    "  \"in_reply_to_status_id\": None,\n",
    "  \"in_reply_to_status_id_str\": None,\n",
    "  \"in_reply_to_user_id\": None,\n",
    "  \"in_reply_to_user_id_str\": None,\n",
    "  \"in_reply_to_screen_name\": None,\n",
    "  \"user\": {\n",
    "    \"id\": 4448809940,\n",
    "    \"id_str\": \"4448809940\",\n",
    "    \"name\": \"ayah\",\n",
    "    \"screen_name\": \"lovbyun\",\n",
    "    \"location\": \"bbh iu jjh pcy kjd dks\",\n",
    "    \"url\": \"https://curiouscat.me/baekhyun-l\",\n",
    "    \"description\": \"hi hello I love exo\",\n",
    "    \"translator_type\": \"none\",\n",
    "    \"protected\": False,\n",
    "    \"verified\": False,\n",
    "    \"followers_count\": 1142,\n",
    "    \"friends_count\": 125,\n",
    "    \"listed_count\": 20,\n",
    "    \"favourites_count\": 5712,\n",
    "    \"statuses_count\": 4011,\n",
    "    \"created_at\": \"Fri Dec 04 03:44:59 +0000 2015\",\n",
    "    \"utc_offset\": -28800,\n",
    "    \"time_zone\": \"Pacific Time (US & Canada)\",\n",
    "    \"geo_enabled\": False,\n",
    "    \"lang\": \"en\",\n",
    "    \"contributors_enabled\": False,\n",
    "    \"is_translator\": False,\n",
    "    \"profile_background_color\": \"000000\",\n",
    "    \"profile_background_image_url\": \"http://abs.twimg.com/images/themes/theme1/bg.png\",\n",
    "    \"profile_background_image_url_https\": \"https://abs.twimg.com/images/themes/theme1/bg.png\",\n",
    "    \"profile_background_tile\": False,\n",
    "    \"profile_link_color\": \"F58EA8\",\n",
    "    \"profile_sidebar_border_color\": \"000000\",\n",
    "    \"profile_sidebar_fill_color\": \"000000\",\n",
    "    \"profile_text_color\": \"000000\",\n",
    "    \"profile_use_background_image\": False,\n",
    "    \"profile_image_url\": \"http://pbs.twimg.com/profile_images/967130320259526656/0xZ-wxXJ_normal.jpg\",\n",
    "    \"profile_image_url_https\": \"https://pbs.twimg.com/profile_images/967130320259526656/0xZ-wxXJ_normal.jpg\",\n",
    "    \"profile_banner_url\": \"https://pbs.twimg.com/profile_banners/4448809940/1519340670\",\n",
    "    \"default_profile\": False,\n",
    "    \"default_profile_image\": False,\n",
    "    \"following\": None,\n",
    "    \"follow_request_sent\": None,\n",
    "    \"notifications\": None\n",
    "  },\n",
    "}\n",
    "\n",
    "twitter_post[\"user\"][ 'friends_count' ]\n"
   ]
  },
  {
   "cell_type": "code",
   "execution_count": 69,
   "metadata": {},
   "outputs": [
    {
     "name": "stdout",
     "output_type": "stream",
     "text": [
      "Ford\n",
      "3\n",
      "{'brand': 'Ford', 'model': 'Mustang', 'year': 2022}\n"
     ]
    }
   ],
   "source": [
    "# Atspausdinkite ‘Ford’, gaukite žodyno car ilgį, pakeiskite metus į 2022\n",
    "car =\t{\n",
    "  \"brand\": \"Ford\",\n",
    "  \"model\": \"Mustang\",\n",
    "  \"year\": 1964\n",
    "}\n",
    "print(car[\"brand\"])\n",
    "print(len(car))\n",
    "car['year'] = 2022\n",
    "#updated_info = {\"year\": 2022}\n",
    "\n",
    "#car.update( updated_info )\n",
    "print(car)\n",
    "\n",
    "\n"
   ]
  },
  {
   "cell_type": "code",
   "execution_count": 71,
   "metadata": {},
   "outputs": [
    {
     "name": "stdout",
     "output_type": "stream",
     "text": [
      "{'brand': 'Ford', 'model': 'Mustang', 'year': 2022, 'color': 'red', 'used': True}\n"
     ]
    }
   ],
   "source": [
    "# Prie esamo žodyno pridėkite naujas reikšmes\n",
    "#'color' = 'red'\n",
    "#'used' =  True\n",
    "#updated_info = {'color': 'red', 'used': True}\n",
    "\n",
    "car.update( {'color': 'red', 'used': True})#( updated_info )\n",
    "print(car)"
   ]
  },
  {
   "cell_type": "code",
   "execution_count": 67,
   "metadata": {},
   "outputs": [
    {
     "name": "stdout",
     "output_type": "stream",
     "text": [
      "{'year': None, 'color': 'red', 'used': True}\n"
     ]
    }
   ],
   "source": [
    "# Iš esamo žodyno ištrinti ‘brand’ raktą ir reikšmę, o ‘year’ reikšmę paverskite į None\n",
    "car =\t{\n",
    "  \"brand\": \"Ford\",\n",
    "  \"year\": 1992,\n",
    "  'color': 'red',\n",
    "  'used':  True\n",
    "}\n",
    "\n",
    "del car['brand'] # car.pop('brand')\n",
    "car[ 'year' ] = None\n",
    "print(car)\n"
   ]
  },
  {
   "cell_type": "code",
   "execution_count": 73,
   "metadata": {},
   "outputs": [
    {
     "name": "stdout",
     "output_type": "stream",
     "text": [
      "True\n",
      "True\n",
      "False\n",
      "True\n"
     ]
    }
   ],
   "source": [
    "print( 'model' in car )# tikrinam tik raktazodi\n",
    "print( 'brand' in car )\n",
    "print( 'red' in car )\n",
    "\n",
    "# jei reiksmes reikia\n",
    "print( 'red' in car.values() )"
   ]
  },
  {
   "cell_type": "markdown",
   "metadata": {},
   "source": [
    "# SET # imtis"
   ]
  },
  {
   "cell_type": "code",
   "execution_count": 74,
   "metadata": {},
   "outputs": [
    {
     "name": "stdout",
     "output_type": "stream",
     "text": [
      "{1, 2, 3, 100, 4, 'b', 'a'}\n"
     ]
    }
   ],
   "source": [
    "my_set = { 100,1,2,3,4,1,1,1,1,'a','b', 'b', 'b'}\n",
    "print(my_set)# besikartojancius narius pasalina"
   ]
  },
  {
   "cell_type": "code",
   "execution_count": 75,
   "metadata": {},
   "outputs": [
    {
     "name": "stdout",
     "output_type": "stream",
     "text": [
      "[1, 2, 3, 100, 4, 'b', 'a']\n"
     ]
    }
   ],
   "source": [
    "my_list = [100,1,2,3,4,1,1,1,1,'a','b', 'b', 'b'] # sarasas su besikartojanciais nariais galima paversti i set\n",
    "my_list = list( set(my_list))\n",
    "print(my_list)# tik netvarkingas sarasas"
   ]
  },
  {
   "cell_type": "code",
   "execution_count": 77,
   "metadata": {},
   "outputs": [
    {
     "name": "stdout",
     "output_type": "stream",
     "text": [
      "True\n",
      "False\n"
     ]
    }
   ],
   "source": [
    "print(4 in my_set)\n",
    "print(5 in my_set)"
   ]
  },
  {
   "cell_type": "code",
   "execution_count": 78,
   "metadata": {},
   "outputs": [
    {
     "name": "stdout",
     "output_type": "stream",
     "text": [
      "7\n"
     ]
    }
   ],
   "source": [
    "print(len(my_set))"
   ]
  },
  {
   "cell_type": "code",
   "execution_count": 80,
   "metadata": {},
   "outputs": [
    {
     "name": "stdout",
     "output_type": "stream",
     "text": [
      "{1, 2, 3, 100, 4, 'b', 'a'}\n",
      "{1, 2, 3, 100, 4, 'b', 5, 'a'}\n",
      "{1, 2, 3, 100, 4, 'b', 5, 'a'}\n",
      "{1, 2, 3, 4, 5, 222, 100, 111, 'b', 'a'}\n"
     ]
    }
   ],
   "source": [
    "my_set = { 100,1,2,3,4,1,1,1,1,'a','b', 'b', 'b'}\n",
    "print(my_set)\n",
    "my_set.add(5)\n",
    "print(my_set)\n",
    "my_set.add(5)# kadangi jau egzistoja dar vieno neprides\n",
    "print(my_set)\n",
    "\n",
    "my_set.update( [111,222])\n",
    "print(my_set)\n"
   ]
  },
  {
   "cell_type": "code",
   "execution_count": 82,
   "metadata": {},
   "outputs": [
    {
     "name": "stdout",
     "output_type": "stream",
     "text": [
      "{1, 2, 3, 100, 4, 'b', 'a'}\n",
      "1\n",
      "{2, 3, 100, 4, 'b', 'a'}\n"
     ]
    }
   ],
   "source": [
    "my_set = { 100,1,2,3,4,1,1,1,1,'a','b', 'b', 'b'}\n",
    "print(my_set)\n",
    "print(my_set.pop())\n",
    "print(my_set)\n",
    "\n"
   ]
  },
  {
   "cell_type": "code",
   "execution_count": 85,
   "metadata": {},
   "outputs": [
    {
     "name": "stdout",
     "output_type": "stream",
     "text": [
      "{1, 2, 3, 100, 4, 'b', 'a'}\n",
      "{1, 2, 3, 100, 'b', 'a'}\n"
     ]
    },
    {
     "ename": "KeyError",
     "evalue": "4",
     "output_type": "error",
     "traceback": [
      "\u001b[1;31m---------------------------------------------------------------------------\u001b[0m",
      "\u001b[1;31mKeyError\u001b[0m                                  Traceback (most recent call last)",
      "Cell \u001b[1;32mIn[85], line 5\u001b[0m\n\u001b[0;32m      3\u001b[0m my_set\u001b[39m.\u001b[39mremove(\u001b[39m4\u001b[39m)\n\u001b[0;32m      4\u001b[0m \u001b[39mprint\u001b[39m(my_set)\n\u001b[1;32m----> 5\u001b[0m my_set\u001b[39m.\u001b[39;49mremove(\u001b[39m4\u001b[39;49m)\n",
      "\u001b[1;31mKeyError\u001b[0m: 4"
     ]
    }
   ],
   "source": [
    "my_set = { 100,1,2,3,4,1,1,1,1,'a','b', 'b', 'b'}\n",
    "print(my_set)\n",
    "my_set.remove(4)\n",
    "print(my_set)\n",
    "my_set.remove(4)# error nes jau tokio nera"
   ]
  },
  {
   "cell_type": "code",
   "execution_count": 86,
   "metadata": {},
   "outputs": [
    {
     "name": "stdout",
     "output_type": "stream",
     "text": [
      "{1, 2, 3, 100, 'b', 'a'}\n",
      "{1, 2, 3, 100, 'b', 'a'}\n",
      "{1, 2, 3, 100, 'b', 'a'}\n",
      "{1, 2, 3, 100, 'b', 'a'}\n",
      "{1, 2, 3, 100, 'b', 'a'}\n"
     ]
    }
   ],
   "source": [
    "y_set = { 100,1,2,3,4,1,1,1,1,'a','b', 'b', 'b'}\n",
    "print(my_set)\n",
    "my_set.discard(4)# istrine\n",
    "print(my_set)\n",
    "my_set.discard(4)# enieko nedaro jei tokio nario nera\n",
    "print(my_set)\n",
    "my_set.discard(4)# enieko nedaro jei tokio nario nera\n",
    "print(my_set)\n",
    "my_set.discard(4)# enieko nedaro jei tokio nario nera\n",
    "print(my_set)"
   ]
  },
  {
   "cell_type": "code",
   "execution_count": 91,
   "metadata": {},
   "outputs": [
    {
     "name": "stdout",
     "output_type": "stream",
     "text": [
      "{1, 3, 4, 5, 6, 7, 8, 9}\n",
      "{1, 3}\n",
      "{8, 9, 4, 6}\n",
      "{5, 7}\n"
     ]
    }
   ],
   "source": [
    "# keliu set palyginimas\n",
    "my_set_1 = {1,3,5,7}\n",
    "my_set_2 = {4,5,6,7,8,9}\n",
    "\n",
    "print( my_set_1.union(my_set_2))# panasu su join is sql\n",
    "print( my_set_1.difference ( my_set_2))\n",
    "print( my_set_2.difference ( my_set_1))\n",
    "\n",
    "print( my_set_1.intersection ( my_set_2))# kas bendro"
   ]
  },
  {
   "cell_type": "code",
   "execution_count": 94,
   "metadata": {},
   "outputs": [
    {
     "name": "stdout",
     "output_type": "stream",
     "text": [
      "True\n",
      "False\n",
      "True\n",
      "False\n"
     ]
    }
   ],
   "source": [
    "small_set = {2,4}\n",
    "big_set= {1,2,3,4,5}\n",
    "\n",
    "print( small_set.issubset(big_set) ) # mazesne dalis kazko didelio\n",
    "print( big_set.issubset(small_set) ) # mazesne dalis kazko didelio\n",
    "\n",
    "print( big_set.issuperset(small_set) ) # didesne dalis kazko didelio\n",
    "print( small_set.issuperset(big_set) ) # didesne dalis kazko didelio"
   ]
  },
  {
   "cell_type": "code",
   "execution_count": 95,
   "metadata": {},
   "outputs": [
    {
     "name": "stdout",
     "output_type": "stream",
     "text": [
      "{'banana', 'cherry', 'apple'}\n",
      "{'banana', 'cherry', 'apple', ('nauja_reiksme', 5)}\n"
     ]
    }
   ],
   "source": [
    "# Pridėkite reikšmę\n",
    "fruits = {\"apple\", \"banana\", \"cherry\"}\n",
    "#fruits = {\"apple\", \"banana\", \"cherry\", (\"nauja_reiksme\", 5)}\n",
    "\n",
    "print(fruits)\n",
    "fruits.add((\"nauja_reiksme\", 5))\n",
    "print(fruits)\n"
   ]
  },
  {
   "cell_type": "code",
   "execution_count": 101,
   "metadata": {},
   "outputs": [
    {
     "name": "stdout",
     "output_type": "stream",
     "text": [
      "{'apple', 'cherry', 'banana'}\n",
      "{'cherry', 'banana'}\n",
      "{'cherry', 'banana', 'watermelon'}\n"
     ]
    }
   ],
   "source": [
    "# Pakeiskite reikšmę\n",
    "fruits = {\"apple\", \"banana\", \"cherry\"}\n",
    "#                         tampa\n",
    "#fruits = {\"watermelon\", \"banana\", \"cherry\"}\n",
    "print(fruits)\n",
    "fruits.remove(\"apple\")\n",
    "print(fruits)\n",
    "fruits.update( [\"watermelon\"] )\n",
    "print(fruits)\n"
   ]
  },
  {
   "cell_type": "code",
   "execution_count": 109,
   "metadata": {},
   "outputs": [
    {
     "name": "stdout",
     "output_type": "stream",
     "text": [
      "{'apple', 'cherry', 'banana', 'watermelon'}\n",
      "{'arbuzas', 'apelsinas', 'banana', 'cherry', 'watermelon', 'apple', 'kriause', 'mandarinas', 'tresnes'}\n",
      "{'arbuzas', 'apelsinas', 'banana', 'cherry', 'watermelon', 'kriause', 'mandarinas', 'tresnes'}\n",
      "8\n",
      "{'arbuzas', 'apelsinas', 'banana', 'cherry', 'watermelon', 'kriause', 'mandarinas', 'tresnes'}\n",
      "8\n"
     ]
    }
   ],
   "source": [
    "#Padarykite šiuos veiksmus\n",
    "fruits = {\"apple\", \"banana\", \"cherry\"}\n",
    "\n",
    "#Pridėkite ‘watermelon’ reikšmę - fruits.add()\n",
    "\n",
    "fruits.add(\"watermelon\")\n",
    "print(fruits)\n",
    "\n",
    "#Pridėkite 5 sugalvotus vaisius prie fruits set’o - fruits.update([ ])\n",
    "\n",
    "fruits.update([\"mandarinas\", \"apelsinas\", \"kriause\", \"arbuzas\", \"tresnes\" ])\n",
    "print(fruits)\n",
    "\n",
    "#Išimkite pasirinką vaisių - fruits.remove(‘apple’), fruits.discard(‘apple’)\n",
    "\n",
    "fruits.discard(\"apple\")\n",
    "print(fruits)\n",
    "\n",
    "#Gaukite set’o ilgį - len(fruits)\n",
    "\n",
    "print(len(fruits))\n",
    "#Pridėkite jau egzistuojantį vaisių - \n",
    "\n",
    "fruits.add(\"kriause\")\n",
    "print(fruits)\n",
    "\n",
    "#Gaukite set’o ilgį - len(fruits)\n",
    "\n",
    "print(len(fruits))\n",
    "\n"
   ]
  }
 ],
 "metadata": {
  "kernelspec": {
   "display_name": "Python 3",
   "language": "python",
   "name": "python3"
  },
  "language_info": {
   "codemirror_mode": {
    "name": "ipython",
    "version": 3
   },
   "file_extension": ".py",
   "mimetype": "text/x-python",
   "name": "python",
   "nbconvert_exporter": "python",
   "pygments_lexer": "ipython3",
   "version": "3.11.1"
  },
  "orig_nbformat": 4,
  "vscode": {
   "interpreter": {
    "hash": "af7a13de55b9033a0d92a6d05b8c21ff0ad3196d66c7143d42430bfd0fb75a53"
   }
  }
 },
 "nbformat": 4,
 "nbformat_minor": 2
}
