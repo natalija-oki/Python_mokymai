{
 "cells": [
  {
   "cell_type": "code",
   "execution_count": 1,
   "metadata": {},
   "outputs": [],
   "source": [
    "## String"
   ]
  },
  {
   "cell_type": "code",
   "execution_count": 2,
   "metadata": {},
   "outputs": [],
   "source": [
    "name = 'Darius'\n",
    "number_str = '5'"
   ]
  },
  {
   "cell_type": "code",
   "execution_count": 4,
   "metadata": {},
   "outputs": [
    {
     "name": "stdout",
     "output_type": "stream",
     "text": [
      "True\n",
      "False\n",
      "True\n",
      "True\n"
     ]
    }
   ],
   "source": [
    "print ('1973'.isdigit() )\n",
    "print ('1973 '.isdigit() )# ar skaicius\n",
    "print ('1973'.strip().isdigit() )# strip pasalina tarpus\n",
    "print ('1973 '.strip().isdigit() )"
   ]
  },
  {
   "cell_type": "code",
   "execution_count": 6,
   "metadata": {},
   "outputs": [
    {
     "data": {
      "text/plain": [
       "'Darius Grigaliunas'"
      ]
     },
     "execution_count": 6,
     "metadata": {},
     "output_type": "execute_result"
    }
   ],
   "source": [
    "## String operations\n",
    "'Darius' + 'Grigaliunas'\n",
    "'Darius' +' ' + 'Grigaliunas'"
   ]
  },
  {
   "cell_type": "code",
   "execution_count": 7,
   "metadata": {},
   "outputs": [
    {
     "ename": "TypeError",
     "evalue": "unsupported operand type(s) for -: 'str' and 'str'",
     "output_type": "error",
     "traceback": [
      "\u001b[1;31m---------------------------------------------------------------------------\u001b[0m",
      "\u001b[1;31mTypeError\u001b[0m                                 Traceback (most recent call last)",
      "Cell \u001b[1;32mIn[7], line 1\u001b[0m\n\u001b[1;32m----> 1\u001b[0m \u001b[39m'\u001b[39;49m\u001b[39mDarius\u001b[39;49m\u001b[39m'\u001b[39;49m \u001b[39m-\u001b[39;49m \u001b[39m'\u001b[39;49m\u001b[39mi\u001b[39;49m\u001b[39m'\u001b[39;49m\n",
      "\u001b[1;31mTypeError\u001b[0m: unsupported operand type(s) for -: 'str' and 'str'"
     ]
    }
   ],
   "source": [
    "'Darius' - 'i'# klaida"
   ]
  },
  {
   "cell_type": "code",
   "execution_count": 8,
   "metadata": {},
   "outputs": [
    {
     "data": {
      "text/plain": [
       "'hi hi hi hi hi hi hi hi hi hi hi hi hi hi hi hi hi hi hi hi hi hi hi hi hi hi hi hi hi hi hi hi hi hi hi hi hi hi hi hi hi hi hi hi hi hi hi hi hi hi hi hi hi hi hi hi hi hi hi hi hi hi hi hi hi hi hi hi hi hi hi hi hi hi hi hi hi hi hi hi hi hi hi hi hi hi hi hi hi hi hi hi hi hi hi hi hi hi hi hi '"
      ]
     },
     "execution_count": 8,
     "metadata": {},
     "output_type": "execute_result"
    }
   ],
   "source": [
    "'hi ' * 100 # dauginamas tekstas"
   ]
  },
  {
   "cell_type": "code",
   "execution_count": 9,
   "metadata": {},
   "outputs": [
    {
     "ename": "TypeError",
     "evalue": "unsupported operand type(s) for /: 'str' and 'int'",
     "output_type": "error",
     "traceback": [
      "\u001b[1;31m---------------------------------------------------------------------------\u001b[0m",
      "\u001b[1;31mTypeError\u001b[0m                                 Traceback (most recent call last)",
      "Cell \u001b[1;32mIn[9], line 1\u001b[0m\n\u001b[1;32m----> 1\u001b[0m \u001b[39m'\u001b[39;49m\u001b[39mhi \u001b[39;49m\u001b[39m'\u001b[39;49m \u001b[39m/\u001b[39;49m \u001b[39m100\u001b[39;49m \u001b[39m# error\u001b[39;00m\n",
      "\u001b[1;31mTypeError\u001b[0m: unsupported operand type(s) for /: 'str' and 'int'"
     ]
    }
   ],
   "source": [
    "'hi ' / 100 # error"
   ]
  },
  {
   "cell_type": "code",
   "execution_count": 16,
   "metadata": {},
   "outputs": [
    {
     "name": "stdout",
     "output_type": "stream",
     "text": [
      "Darius Grigaliunas, nice to meet you! Your number is 57\n",
      "Darius Grigaliunas, nice to meet you! Your number is 57\n",
      "      Darius     Grigaliunas, nice to meet you! Your number is 57\n",
      "Darius Grigaliunas, nice to meet you! Your number is 57\n",
      "Darius Grigaliunas, nice to meet you! Your number is 62\n"
     ]
    }
   ],
   "source": [
    "## String formatinf. f-sring - teksto formatavimas\n",
    "name = 'Darius' # galim perrasyti po to varda\n",
    "surname = 'Grigaliunas'\n",
    "number = 57\n",
    "print( name + ' ' + surname + ', nice to meet you! Your number is ' + str(number) )# str konvertuoja teksta i skaiciu\n",
    "print ( f'{name} {surname}, nice to meet you! Your number is {number}' )\n",
    "print ( f'      {name}     {surname}, nice to meet you! Your number is {number}' )\n",
    "print ( f'{    name    } {surname}, nice to meet you! Your number is {number}' )\n",
    "\n",
    "print ( f'{name} {surname}, nice to meet you! Your number is {number +5 }' )\n",
    "\n"
   ]
  },
  {
   "cell_type": "code",
   "execution_count": 17,
   "metadata": {},
   "outputs": [],
   "source": [
    "## NUMBERS"
   ]
  },
  {
   "cell_type": "code",
   "execution_count": 19,
   "metadata": {},
   "outputs": [
    {
     "name": "stdout",
     "output_type": "stream",
     "text": [
      "<class 'int'>\n",
      "<class 'float'>\n",
      "<class 'str'>\n"
     ]
    }
   ],
   "source": [
    "number = 423\n",
    "float_number = 1.5 # po kablelio\n",
    "number_text = '43'\n",
    "\n",
    "#print ( type() ) suzinoti koks kintamasis!!!!!!!!!!!!!!!!!!!!!!!!!!!!!!!!!!!!!\n",
    "print ( type(number) )\n",
    "print ( type(float_number) )\n",
    "print ( type(number_text) )"
   ]
  },
  {
   "cell_type": "code",
   "execution_count": 20,
   "metadata": {},
   "outputs": [],
   "source": [
    "### Operators"
   ]
  },
  {
   "cell_type": "code",
   "execution_count": 28,
   "metadata": {},
   "outputs": [
    {
     "name": "stdout",
     "output_type": "stream",
     "text": [
      "424.5\n",
      "<class 'float'>\n",
      "5\n",
      "50\n",
      "2.0\n",
      "dalybos sveikoji dalis\n",
      "4\n",
      "4\n",
      "4\n"
     ]
    }
   ],
   "source": [
    "suma = number + float_number\n",
    "print(suma)\n",
    "print(type(suma))\n",
    "print(10 - 5)\n",
    "print(10 * 5)\n",
    "print(10 / 5)# dalyboj visada rezultatas float\n",
    "\n",
    "print('dalybos sveikoji dalis')\n",
    "print(13 // 3)# dalybos sveika dali\n",
    "print(12 // 3)# dalybos sveika dali\n",
    "print(14 // 3)# dalybos sveika dali"
   ]
  },
  {
   "cell_type": "code",
   "execution_count": 33,
   "metadata": {},
   "outputs": [
    {
     "name": "stdout",
     "output_type": "stream",
     "text": [
      "dalybos liekana\n",
      "1\n",
      "0\n",
      "2\n",
      "0\n",
      "lyginis ar ne\n",
      "1\n",
      "0\n",
      "dalinam is 3\n",
      "0\n",
      "1\n"
     ]
    }
   ],
   "source": [
    "print('dalybos liekana')\n",
    "print(13 % 3) \n",
    "print(12 % 3)\n",
    "print(14 % 3)\n",
    "print(15 % 3)\n",
    "\n",
    "\n",
    "print('lyginis ar ne')\n",
    "print(11 % 2)# ar lyginis skaicius\n",
    "print(16 % 2)\n",
    "\n",
    "print('dalinam is 3')\n",
    "# jei 0 dalinasi is 3 jei ne nulis - nesidalina\n",
    "print(15 % 3)\n",
    "print(16 % 3)"
   ]
  },
  {
   "cell_type": "code",
   "execution_count": 36,
   "metadata": {},
   "outputs": [
    {
     "name": "stdout",
     "output_type": "stream",
     "text": [
      "kelimas laipsniu\n",
      "4\n",
      "2^2 = 4\n",
      "2^3 = 8\n",
      "2^4 = 16\n",
      "6^4 = 1296\n"
     ]
    }
   ],
   "source": [
    "print ( 'kelimas laipsniu')\n",
    "print( 2 ** 2) # dvi * kelimas\n",
    "\n",
    "print( f'{2}^{2} = {2 ** 2}'  )\n",
    "print( f'{2}^{3} = {2 ** 3}'  )\n",
    "print( f'{2}^{4} = {2 ** 4}'  )\n",
    "print( f'{6}^{4} = {6 ** 4}'  )"
   ]
  },
  {
   "cell_type": "code",
   "execution_count": 44,
   "metadata": {},
   "outputs": [
    {
     "name": "stdout",
     "output_type": "stream",
     "text": [
      "9.600000000000001\n",
      "9.600000000000001\n",
      "sandauga: 9.600000000000001\n",
      "256\n"
     ]
    }
   ],
   "source": [
    "suma = 0\n",
    "\n",
    "kaina_1 = 5.4\n",
    "kaina_2 = 4.2\n",
    "\n",
    "suma = suma + kaina_1\n",
    "suma = suma + kaina_2\n",
    "print (suma)# kai ompas negali labai tiksliai apskaiciuot, tai rideda ...000001\n",
    "\n",
    "\n",
    "\n",
    "suma = 0\n",
    "suma += kaina_1\n",
    "suma += kaina_2\n",
    "print (suma)# visiskai vienodi uzrasymai\n",
    "\n",
    "\n",
    "sandauga = 1\n",
    "sandauga *= kaina_1\n",
    "sandauga *= kaina_2\n",
    "print (f'sandauga: {suma}')\n",
    "\n",
    "skaicius = 4\n",
    "skaicius **= 2\n",
    "skaicius **= 2\n",
    "print(skaicius)"
   ]
  },
  {
   "cell_type": "code",
   "execution_count": 59,
   "metadata": {},
   "outputs": [
    {
     "name": "stdout",
     "output_type": "stream",
     "text": [
      "suma: 35\n",
      "skirtumas: 25\n",
      "sandauga: 150\n",
      "dalyba: 6\n",
      "liekana: 0\n"
     ]
    }
   ],
   "source": [
    "# Apskaičiuokite dviejų int sumą, skirtumą, sandaugą, liekaną, padalinkite vieną skaičių iš kito\n",
    "suma = 0\n",
    "skaicius_1 = 30\n",
    "skaicius_2 = 5\n",
    "\n",
    "suma += skaicius_1\n",
    "suma += skaicius_2\n",
    "print (f'suma: {suma}')\n",
    "\n",
    "skirtumas = 0\n",
    "skirtumas = skaicius_1\n",
    "skirtumas -= skaicius_2\n",
    "print (f'skirtumas: {skirtumas}')\n",
    "\n",
    "sandauga = 1\n",
    "sandauga *= skaicius_1\n",
    "sandauga *= skaicius_2\n",
    "print (f'sandauga: {sandauga}')\n",
    "\n",
    "#dalyba\n",
    "dalyba = skaicius_1\n",
    "dalyba //= skaicius_2\n",
    "print (f'dalyba: {dalyba}')\n",
    "\n",
    "#liekana\n",
    "liekana = skaicius_1\n",
    "liekana %= skaicius_2\n",
    "print (f'liekana: {liekana}')\n"
   ]
  },
  {
   "cell_type": "code",
   "execution_count": 61,
   "metadata": {},
   "outputs": [
    {
     "name": "stdout",
     "output_type": "stream",
     "text": [
      "suma: 35.15\n",
      "skirtumas: 25.15\n",
      "sandauga: 150.75\n",
      "dalyba: 6.0\n",
      "liekana: 0.14999999999999858\n"
     ]
    }
   ],
   "source": [
    "# Apskaičiuokite dviejų float sumą, skirtumą, sandaugą, liekaną, padalinkite vieną skaičių iš kito\n",
    "\n",
    "suma = 0\n",
    "skaicius_1 = 30.15\n",
    "skaicius_2 = 5\n",
    "\n",
    "suma += skaicius_1\n",
    "suma += skaicius_2\n",
    "print (f'suma: {suma}')\n",
    "\n",
    "skirtumas = 0\n",
    "skirtumas = skaicius_1\n",
    "skirtumas -= skaicius_2\n",
    "print (f'skirtumas: {skirtumas}')\n",
    "\n",
    "sandauga = 1\n",
    "sandauga *= skaicius_1\n",
    "sandauga *= skaicius_2\n",
    "print (f'sandauga: {sandauga}')\n",
    "\n",
    "#dalyba\n",
    "dalyba = skaicius_1\n",
    "dalyba //= skaicius_2\n",
    "print (f'dalyba: {dalyba}')\n",
    "\n",
    "#liekana\n",
    "liekana = skaicius_1\n",
    "liekana %= skaicius_2\n",
    "print (f'liekana: {liekana}')"
   ]
  },
  {
   "cell_type": "code",
   "execution_count": 68,
   "metadata": {},
   "outputs": [
    {
     "name": "stdout",
     "output_type": "stream",
     "text": [
      "Atstumas iki saules yra 390.625 kartu didesnis nei atstumas iki menulio\n"
     ]
    }
   ],
   "source": [
    "#Atstumas iki Mėnulio yra apie 384,000 km, o iki Saulės 150,000,000, kiek kartų atstumas iki Saulės yra didesnis nei iki Mėnulio?\n",
    "menulis = 384_000\n",
    "saule = 150_000_000\n",
    "\n",
    "print (f'Atstumas iki saules yra {saule/menulis} kartu didesnis nei atstumas iki menulio')\n",
    "\n"
   ]
  },
  {
   "cell_type": "code",
   "execution_count": 69,
   "metadata": {},
   "outputs": [
    {
     "name": "stdout",
     "output_type": "stream",
     "text": [
      "Atstumas iki saules yra 390.625 kartu didesnis nei atstumas iki menulio \n",
      "390.625\n",
      "2560.0\n",
      "106.66666666666667\n",
      "3.5555555555555554\n",
      "0.2962962962962963\n",
      "153600.0\n",
      "9216000.0\n"
     ]
    }
   ],
   "source": [
    "#Jeigu norėtume nuvažiuoti iki mėnulio automobiliu, kurio greitis 150km/h, kiek  valandų. N.d:metų, mėnesių, dienų, sekundžių tai užtruktų?\n",
    "dist_sun = 150_000_000 # same as dist_sun = 150000000\n",
    "dist_moon = 384_000\n",
    "\n",
    "speed_per_hour = 150\n",
    "\n",
    "print(f'Atstumas iki saules yra {dist_sun / dist_moon} kartu didesnis nei atstumas iki menulio ')\n",
    "print(dist_sun / dist_moon)\n",
    "day = speed_per_hour * 24\n",
    "month = day * 30\n",
    "year = month * 12\n",
    "minutes = speed_per_hour/60\n",
    "seconds = minutes/60\n",
    "\n",
    "print(dist_moon/speed_per_hour)\n",
    "print(dist_moon/day)\n",
    "print(dist_moon/month)\n",
    "print(dist_moon/year)\n",
    "print(dist_moon/minutes)\n",
    "print(dist_moon/seconds)"
   ]
  },
  {
   "cell_type": "code",
   "execution_count": 66,
   "metadata": {},
   "outputs": [
    {
     "name": "stdout",
     "output_type": "stream",
     "text": [
      "15695\n"
     ]
    }
   ],
   "source": [
    "#Kiek dienų praėjo nuo jūsų gimimo dienos?\n",
    "\n",
    "year = 1980\n",
    "year_passed = (2023 - year) * 365\n",
    "print ( year_passed) # paprastesnis variantas"
   ]
  },
  {
   "cell_type": "code",
   "execution_count": 75,
   "metadata": {},
   "outputs": [
    {
     "name": "stdout",
     "output_type": "stream",
     "text": [
      "15672\n"
     ]
    }
   ],
   "source": [
    "#kitas variantas:\n",
    "from datetime import date\n",
    "\n",
    "d0 = date(1980, 3, 13)\n",
    "d1 = date.today()\n",
    "delta = d1 - d0\n",
    "print(delta.days)\n"
   ]
  },
  {
   "cell_type": "code",
   "execution_count": 87,
   "metadata": {},
   "outputs": [
    {
     "name": "stdout",
     "output_type": "stream",
     "text": [
      "True\n",
      "<class 'bool'>\n",
      "True\n",
      "False\n",
      "<class 'bool'>\n",
      "1\n",
      "0\n",
      "True\n",
      "True\n",
      "True\n",
      "False\n"
     ]
    }
   ],
   "source": [
    "### BOOLEAN\n",
    "bool_true = True\n",
    "print (bool_true)\n",
    "print(type(bool_true))\n",
    "\n",
    "bool_true = bool(1)\n",
    "print (bool_true)\n",
    "\n",
    "#bool_true = bool(0)\n",
    "#print (bool_true)\n",
    "\n",
    "bool_false = False\n",
    "print (bool_false)\n",
    "print (type(bool_false))\n",
    "\n",
    "# konvertuoti i skaiciu\n",
    "print( int(bool_true))\n",
    "print( int(bool_false))\n",
    "\n",
    "# konvertuoti - jei skaicius nelygus 0 - True, jei lygus - False\n",
    "print (bool( 1 ))\n",
    "print (bool( 10 ))\n",
    "print (bool( -1.5 ))\n",
    "print (bool( 0 ))"
   ]
  },
  {
   "cell_type": "code",
   "execution_count": 90,
   "metadata": {},
   "outputs": [
    {
     "name": "stdout",
     "output_type": "stream",
     "text": [
      "True\n",
      "False\n",
      "False\n",
      "False\n",
      "True\n"
     ]
    }
   ],
   "source": [
    "print( 2 < 5 )\n",
    "print( 2 == 5 )# du == tikrinam ar lygu\n",
    "print( 2 > 5 )\n",
    "print( 2 >= 5 )\n",
    "print( 5 >= 5 )\n",
    "\n"
   ]
  },
  {
   "cell_type": "code",
   "execution_count": 91,
   "metadata": {},
   "outputs": [
    {
     "name": "stdout",
     "output_type": "stream",
     "text": [
      "False\n",
      "True\n"
     ]
    }
   ],
   "source": [
    "print ( not True )\n",
    "print ( not not True )"
   ]
  },
  {
   "cell_type": "code",
   "execution_count": 95,
   "metadata": {},
   "outputs": [
    {
     "name": "stdout",
     "output_type": "stream",
     "text": [
      "and\n",
      "True\n",
      "False\n",
      "False\n",
      "or\n",
      "True\n",
      "True\n",
      "False\n"
     ]
    }
   ],
   "source": [
    "print ('and')\n",
    "print (20 > 10 and 5> 1)\n",
    "print (20 > 10 and 5< 1)\n",
    "print (20 < 10 and 5< 1)\n",
    "\n",
    "print ('or')# jei tiesa bent is vienos puses\n",
    "print (20 > 10 or 5> 1)\n",
    "print (20 > 10 or 5< 1)\n",
    "print (20 < 10 or 5< 1)"
   ]
  },
  {
   "cell_type": "code",
   "execution_count": 97,
   "metadata": {},
   "outputs": [
    {
     "name": "stdout",
     "output_type": "stream",
     "text": [
      "True\n",
      "True\n",
      "True\n",
      "True\n",
      "True\n"
     ]
    }
   ],
   "source": [
    "#Deklaruokite True reikšmę 5 skirtingais būdais\n",
    "print( 20 > 5 )\n",
    "print( 0 == 0 and 3>1)\n",
    "print( 0 == 0 or 3<1)\n",
    "print (bool( -1.5 ))\n",
    "print( 0 == 0 )\n"
   ]
  },
  {
   "cell_type": "code",
   "execution_count": 99,
   "metadata": {},
   "outputs": [
    {
     "name": "stdout",
     "output_type": "stream",
     "text": [
      "False\n",
      "False\n",
      "False\n",
      "False\n",
      "False\n"
     ]
    }
   ],
   "source": [
    "# Deklaruokite False reikšmę 5 skirtingais būdais\n",
    "print( 20 < 5 )\n",
    "print( 0 != 0 and 3<1)\n",
    "print( 0 != 0 or 3<1)\n",
    "print (bool( 0 ))\n",
    "print( 0 != 0 )"
   ]
  },
  {
   "cell_type": "code",
   "execution_count": 100,
   "metadata": {},
   "outputs": [
    {
     "name": "stdout",
     "output_type": "stream",
     "text": [
      "False\n"
     ]
    }
   ],
   "source": [
    "#Naudodami tik int tipo duomenį\n",
    "print( 20 < 5 )\n",
    "\n",
    "\n",
    "#Tik string tipo duomenį\n",
    "#a = True"
   ]
  },
  {
   "cell_type": "code",
   "execution_count": null,
   "metadata": {},
   "outputs": [],
   "source": [
    "#-------------------------------------------------------------------"
   ]
  },
  {
   "cell_type": "code",
   "execution_count": 101,
   "metadata": {},
   "outputs": [],
   "source": [
    "###LISTS"
   ]
  },
  {
   "cell_type": "code",
   "execution_count": 109,
   "metadata": {},
   "outputs": [
    {
     "name": "stdout",
     "output_type": "stream",
     "text": [
      "['Vilnius', 'Kaunas', 'Klaipeda']\n",
      "Vilnius\n",
      "<class 'list'>\n",
      "<class 'str'>\n",
      "Klaipeda\n",
      "['Kaunas', 'Klaipeda']\n",
      "['Vilnius', 'Kaunas']\n"
     ]
    }
   ],
   "source": [
    "cities = [ 'Vilnius', 'Kaunas', 'Klaipeda']\n",
    "print (cities)\n",
    "print (cities[0])# pirmas miestas\n",
    "print (type(cities))\n",
    "print (type(cities[0]))\n",
    "print (cities[-1])\n",
    "print (cities[1:])\n",
    "print (cities[:2])"
   ]
  },
  {
   "cell_type": "code",
   "execution_count": 111,
   "metadata": {},
   "outputs": [
    {
     "name": "stdout",
     "output_type": "stream",
     "text": [
      "<class 'int'>\n",
      "<class 'float'>\n",
      "<class 'str'>\n"
     ]
    }
   ],
   "source": [
    "numbers = [ 15,654,769,238.4274,'5' ]# srasao viduje gali buti bet kokie duomenys\n",
    "print (type( numbers[0] ) )\n",
    "print (type( numbers[-2] ) )\n",
    "print (type( numbers[-1] ) )# tekstas str"
   ]
  },
  {
   "cell_type": "code",
   "execution_count": 113,
   "metadata": {},
   "outputs": [
    {
     "name": "stdout",
     "output_type": "stream",
     "text": [
      "[154, 44, 33]\n",
      "[154, 44, 33, 51]\n"
     ]
    }
   ],
   "source": [
    "numbers = [ 154,44,33 ]\n",
    "print( numbers )\n",
    "numbers.append( 51 )# prideda objekta (bet ka) prie saraso gala\n",
    "#print( numbers.append( 51 ))# do not print append\n",
    "\n",
    "print( numbers )"
   ]
  },
  {
   "cell_type": "code",
   "execution_count": 114,
   "metadata": {},
   "outputs": [
    {
     "name": "stdout",
     "output_type": "stream",
     "text": [
      "[154, 44, 33, 51, 51]\n"
     ]
    }
   ],
   "source": [
    "numbers.append( 51 )# prideda objekta (bet ka) prie saraso gala\n",
    "#print( numbers.append( 51 ))# do not print append\n",
    "\n",
    "#print( numbers )kiekviena karta paspaudus prideda vis objekta"
   ]
  },
  {
   "cell_type": "code",
   "execution_count": 115,
   "metadata": {},
   "outputs": [
    {
     "data": {
      "text/plain": [
       "2"
      ]
     },
     "execution_count": 115,
     "metadata": {},
     "output_type": "execute_result"
    }
   ],
   "source": [
    "numbers.count(51)# kiek verciu musu sarase"
   ]
  },
  {
   "cell_type": "code",
   "execution_count": 121,
   "metadata": {},
   "outputs": [
    {
     "name": "stdout",
     "output_type": "stream",
     "text": [
      "[154, 44, 33, 51]\n",
      "[154, 44, 33, 51, [100, 100]]\n",
      "[100, 100]\n",
      "5\n",
      "[154, 44, 33, 51, [100, 100], 100, 100]\n",
      "7\n",
      "2\n"
     ]
    }
   ],
   "source": [
    "numbers = [ 154,44,33 ]\n",
    "numbers.append( 51 )\n",
    "print( numbers )\n",
    "numbers.append( [100, 100] )\n",
    "print( numbers )\n",
    "print(numbers[-1])# skaitosi kaip vienas narys [] skliaustuose\n",
    "print( len(numbers) )\n",
    "\n",
    "numbers.extend([100, 100])# traktuoja kaip atskirus narius\n",
    "print( numbers )\n",
    "print( len(numbers) )\n",
    "print(numbers.count(100))# komandos veikia  auksciausiame lygmenyje, iesko konkretaus reiskinio"
   ]
  },
  {
   "cell_type": "code",
   "execution_count": 127,
   "metadata": {},
   "outputs": [
    {
     "name": "stdout",
     "output_type": "stream",
     "text": [
      "[154, 500, 44, 33, 51, [100, 100], 100, 100]\n"
     ]
    }
   ],
   "source": [
    "numbers.index(100)# suzinoti verte,  kur yra tas skaicius\n",
    "numbers.insert(1, 500)# ideda i kazkokia pozicija - pradzioje kurioje vietoje \n",
    "print( numbers )"
   ]
  },
  {
   "cell_type": "code",
   "execution_count": 128,
   "metadata": {},
   "outputs": [
    {
     "name": "stdout",
     "output_type": "stream",
     "text": [
      "[154, 500, 44, 33, 51, [100, 100], 100, 100]\n",
      "100\n",
      "[154, 500, 44, 33, 51, [100, 100], 100]\n"
     ]
    }
   ],
   "source": [
    "print(numbers)\n",
    "print(numbers.pop())# pasalinti verte is saraso. Jei nieko nenurodom, tai paskutine\n",
    "print(numbers)"
   ]
  },
  {
   "cell_type": "code",
   "execution_count": 129,
   "metadata": {},
   "outputs": [
    {
     "name": "stdout",
     "output_type": "stream",
     "text": [
      "[154, 500, 44, 33, 51, [100, 100], 100]\n",
      "None\n",
      "[154, 44, 33, 51, [100, 100], 100]\n"
     ]
    }
   ],
   "source": [
    "print(numbers)\n",
    "print(numbers.remove(500))# nurodyti reiksme kuri reikia, is eiles iesko ir pira pasalina # klaida jei neegzistuoja\n",
    "print(numbers)"
   ]
  },
  {
   "cell_type": "code",
   "execution_count": 141,
   "metadata": {},
   "outputs": [
    {
     "name": "stdout",
     "output_type": "stream",
     "text": [
      "[654, [[[48, [['65']]], 57]]]\n",
      "2\n",
      "[[[48, [['65']]], 57]]\n",
      "[[48, [['65']]], 57]\n",
      "[48, [['65']]]\n",
      "[['65']]\n",
      "['65']\n",
      "65\n"
     ]
    }
   ],
   "source": [
    "nested_list = [654, [[[48, [['65']]], 57]]]\n",
    "print(nested_list)\n",
    "print(len(nested_list))\n",
    "\n",
    "print (nested_list[1])\n",
    "print (nested_list[1][0])\n",
    "#print (len(nested_list[1][0]))\n",
    "print (nested_list[1][0][0])\n",
    "print (nested_list[1][0][0][1])\n",
    "print (nested_list[1][0][0][1][0])\n",
    "print (nested_list[1][0][0][1][0][0])\n",
    "\n"
   ]
  },
  {
   "cell_type": "code",
   "execution_count": 144,
   "metadata": {},
   "outputs": [
    {
     "name": "stdout",
     "output_type": "stream",
     "text": [
      "[154, 44, 33, 51, [100, 100], 100]\n",
      "[100, [100, 100], 51, 33, 44, 154]\n"
     ]
    }
   ],
   "source": [
    "\n",
    "print(numbers)\n",
    "numbers.reverse()# apsuka/apvercia skaicius kiekviena karta\n",
    "print(numbers)"
   ]
  },
  {
   "cell_type": "code",
   "execution_count": 145,
   "metadata": {},
   "outputs": [
    {
     "data": {
      "text/plain": [
       "[154, 44, 33, 51, [100, 100], 100]"
      ]
     },
     "execution_count": 145,
     "metadata": {},
     "output_type": "execute_result"
    }
   ],
   "source": [
    "#numbers[start:end:step]\n",
    "numbers[::-1]% apvercia visa sarasa, spausdina visus irasus, bet kiek kartu spausi - nesikeis"
   ]
  },
  {
   "cell_type": "code",
   "execution_count": 147,
   "metadata": {},
   "outputs": [
    {
     "name": "stdout",
     "output_type": "stream",
     "text": [
      "[33, 44, 154]\n",
      "[154, 44, 33]\n"
     ]
    }
   ],
   "source": [
    "numbers = [ 154,44,33 ]\n",
    "numbers.sort()# isrikiuoja didejimo tvarka\n",
    "print(numbers)\n",
    "\n",
    "numbers.sort(reverse=True)# mazejim tvarka\n",
    "print(numbers)"
   ]
  },
  {
   "cell_type": "code",
   "execution_count": 150,
   "metadata": {},
   "outputs": [
    {
     "name": "stdout",
     "output_type": "stream",
     "text": [
      "[33, 44, 154]\n",
      "[154, 44, 33]\n",
      "[154, 44, 33]\n",
      "[154, 44, 33]\n"
     ]
    }
   ],
   "source": [
    "numbers = [ 154,44,33 ]\n",
    "print (sorted( numbers ) )#  duoda isrikiuotas reiksmes, bet jei atspausdinu pati sarasa - sarase nemodifikuoja duomenys -- SAUGIAU naudoti\n",
    "print(numbers)\n",
    "print (sorted( numbers, reverse = True) )#  mazejimo tvarka\n",
    "print(numbers)"
   ]
  },
  {
   "cell_type": "code",
   "execution_count": 151,
   "metadata": {},
   "outputs": [
    {
     "name": "stdout",
     "output_type": "stream",
     "text": [
      "['Vilnius', 'Kaunas', 'Klaipeda']\n"
     ]
    }
   ],
   "source": [
    "print ( cities )"
   ]
  },
  {
   "cell_type": "code",
   "execution_count": 152,
   "metadata": {},
   "outputs": [
    {
     "name": "stdout",
     "output_type": "stream",
     "text": [
      "['Vilnius', 'Kaunas', 'Siauliai']\n"
     ]
    }
   ],
   "source": [
    "cities[2] = 'Siauliai'# perrasyti info/vertes\n",
    "print ( cities )"
   ]
  },
  {
   "cell_type": "code",
   "execution_count": 155,
   "metadata": {},
   "outputs": [
    {
     "name": "stdout",
     "output_type": "stream",
     "text": [
      "True\n",
      "False\n"
     ]
    }
   ],
   "source": [
    "print( \"Vilnius\" in cities)\n",
    "print (\"Klaipeda\" in cities)"
   ]
  },
  {
   "cell_type": "code",
   "execution_count": 156,
   "metadata": {},
   "outputs": [
    {
     "name": "stdout",
     "output_type": "stream",
     "text": [
      "False\n",
      "True\n"
     ]
    }
   ],
   "source": [
    "print( bool( [] ) )#Tuscias False\n",
    "print( bool( [0] ) )#Netuscias true"
   ]
  },
  {
   "cell_type": "code",
   "execution_count": null,
   "metadata": {},
   "outputs": [],
   "source": [
    "# operators with list"
   ]
  },
  {
   "cell_type": "code",
   "execution_count": 158,
   "metadata": {},
   "outputs": [
    {
     "name": "stdout",
     "output_type": "stream",
     "text": [
      "[1, 2, 3, 'a', 'b', 'c']\n"
     ]
    }
   ],
   "source": [
    "combined = [1,2,3] + ['a', 'b', 'c'] \n",
    "print(combined)"
   ]
  },
  {
   "cell_type": "code",
   "execution_count": 159,
   "metadata": {},
   "outputs": [
    {
     "ename": "TypeError",
     "evalue": "unsupported operand type(s) for -: 'list' and 'list'",
     "output_type": "error",
     "traceback": [
      "\u001b[1;31m---------------------------------------------------------------------------\u001b[0m",
      "\u001b[1;31mTypeError\u001b[0m                                 Traceback (most recent call last)",
      "Cell \u001b[1;32mIn[159], line 1\u001b[0m\n\u001b[1;32m----> 1\u001b[0m combined \u001b[39m=\u001b[39m [\u001b[39m1\u001b[39;49m,\u001b[39m2\u001b[39;49m,\u001b[39m3\u001b[39;49m] \u001b[39m-\u001b[39;49m [\u001b[39m'\u001b[39;49m\u001b[39ma\u001b[39;49m\u001b[39m'\u001b[39;49m, \u001b[39m'\u001b[39;49m\u001b[39mb\u001b[39;49m\u001b[39m'\u001b[39;49m, \u001b[39m'\u001b[39;49m\u001b[39mc\u001b[39;49m\u001b[39m'\u001b[39;49m] \u001b[39m# klaida\u001b[39;00m\n\u001b[0;32m      2\u001b[0m \u001b[39mprint\u001b[39m(combined)\n",
      "\u001b[1;31mTypeError\u001b[0m: unsupported operand type(s) for -: 'list' and 'list'"
     ]
    }
   ],
   "source": [
    "combined = [1,2,3] - ['a', 'b', 'c'] # klaida\n",
    "print(combined)"
   ]
  },
  {
   "cell_type": "code",
   "execution_count": 160,
   "metadata": {},
   "outputs": [
    {
     "name": "stdout",
     "output_type": "stream",
     "text": [
      "[1, 2, 3, 'a', 'b', 'c', 1, 2, 3, 'a', 'b', 'c', 1, 2, 3, 'a', 'b', 'c', 1, 2, 3, 'a', 'b', 'c', 1, 2, 3, 'a', 'b', 'c', 1, 2, 3, 'a', 'b', 'c', 1, 2, 3, 'a', 'b', 'c', 1, 2, 3, 'a', 'b', 'c', 1, 2, 3, 'a', 'b', 'c', 1, 2, 3, 'a', 'b', 'c']\n"
     ]
    }
   ],
   "source": [
    "print(combined * 10)"
   ]
  },
  {
   "cell_type": "code",
   "execution_count": 162,
   "metadata": {},
   "outputs": [
    {
     "name": "stdout",
     "output_type": "stream",
     "text": [
      "<class 'list'>\n",
      "<class 'tuple'>\n"
     ]
    }
   ],
   "source": [
    "print( type ( [] ) )# koks tipas visada ziureti\n",
    "print( type ( () ) )# koks tipas visada ziureti"
   ]
  },
  {
   "cell_type": "code",
   "execution_count": null,
   "metadata": {},
   "outputs": [],
   "source": []
  },
  {
   "cell_type": "code",
   "execution_count": 125,
   "metadata": {},
   "outputs": [
    {
     "name": "stdout",
     "output_type": "stream",
     "text": [
      "['vaisiai', 'darzoves', 'mesa']\n",
      "3\n",
      "['vaisiai', 'darzoves', 'mesa', 'zuvys']\n",
      "4\n"
     ]
    }
   ],
   "source": [
    "# Deklaruoti list tipo duomenį, gauti jo ilgį, pridėti naują elementą\n",
    "maistas = [ 'vaisiai', 'darzoves', 'mesa']\n",
    "print( maistas )\n",
    "print( len(maistas) )\n",
    "maistas.append( 'zuvys' )\n",
    "print( maistas )\n",
    "print( len(maistas) )\n"
   ]
  },
  {
   "cell_type": "code",
   "execution_count": null,
   "metadata": {},
   "outputs": [],
   "source": [
    "# Patikrinti ar elementas yra jūsų sąraše\n",
    "maistas = [ 'vaisiai', 'darzoves', 'mesa']\n",
    "print( maistas )\n"
   ]
  },
  {
   "cell_type": "code",
   "execution_count": null,
   "metadata": {},
   "outputs": [],
   "source": [
    "# Sudėti du list’us, išimti paskutinį narį iš sudėto listo, išrikiuoti list’ą, suskaičiuoti kiek yra kokios nors reikšmės įvesčių list’e\n"
   ]
  }
 ],
 "metadata": {
  "kernelspec": {
   "display_name": "Python 3",
   "language": "python",
   "name": "python3"
  },
  "language_info": {
   "codemirror_mode": {
    "name": "ipython",
    "version": 3
   },
   "file_extension": ".py",
   "mimetype": "text/x-python",
   "name": "python",
   "nbconvert_exporter": "python",
   "pygments_lexer": "ipython3",
   "version": "3.11.1"
  },
  "orig_nbformat": 4,
  "vscode": {
   "interpreter": {
    "hash": "af7a13de55b9033a0d92a6d05b8c21ff0ad3196d66c7143d42430bfd0fb75a53"
   }
  }
 },
 "nbformat": 4,
 "nbformat_minor": 2
}
