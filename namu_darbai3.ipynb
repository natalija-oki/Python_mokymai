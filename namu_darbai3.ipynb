{
 "cells": [
  {
   "cell_type": "code",
   "execution_count": 1,
   "metadata": {},
   "outputs": [
    {
     "name": "stdout",
     "output_type": "stream",
     "text": [
      "{8, 9, 3, 15}\n",
      "[3, 8, 9, 15]\n"
     ]
    }
   ],
   "source": [
    "# 1. Rasti pasikartojančius elementus tarp dviejų list'ų\n",
    "a = [1,2,3,4,5,6,7,8,9,15]\n",
    "b = [3,8,9,11,15]\n",
    "\n",
    "print( set(a).intersection ( set(b) ) )# kas bendro\n",
    "\n",
    "# Gauti rezultatą c = [3,8,9,15] nes šie skaičiai pasikartoja abiejuose listuose\n",
    "\n",
    "c = list (set ( set(a).intersection ( set(b) ) ) )\n",
    "print( sorted ( c ) )\n"
   ]
  },
  {
   "cell_type": "code",
   "execution_count": 2,
   "metadata": {},
   "outputs": [
    {
     "name": "stdout",
     "output_type": "stream",
     "text": [
      "{800, 1, 2, 900, 5, 8, 10, -20, 12, 14, -9, -8, -6, -900}\n",
      "[800, 1, 2, 900, 5, 8, 10, 12, 14]\n"
     ]
    }
   ],
   "source": [
    "#2. Išfiltruoti unikalius teigiamus numeris iš sąrašo\n",
    "x = [1, 5, 1, 2, 8, -9, 10, 1, -8, -900, 14, 5, -8, 2, 1, -20, 900, 800, -6, -8, 12, 1]\n",
    "set_x = set (  x )\n",
    "print( set_x )\n",
    "\n",
    "unik_teig = [x_1 for x_1 in set_x if x_1 > 0]\n",
    "print( unik_teig )\n"
   ]
  },
  {
   "cell_type": "code",
   "execution_count": 14,
   "metadata": {},
   "outputs": [
    {
     "name": "stdout",
     "output_type": "stream",
     "text": [
      "32.67\n",
      "45.0\n",
      "1212\n",
      "14943.959999999997\n",
      "14943.96\n"
     ]
    }
   ],
   "source": [
    "#3. Paskaičiuoti pelną pardavus visas prekes. Informacija apie kainą ir kiekius yra pateikiama kaip dictionary, atsakymą suapvalinti iki 2 skaičių po kablelio.\n",
    "x = { \"cost_price\": 32.67,\n",
    "\"sell_price\": 45.00,\n",
    "\"inventory\": 1212 }\n",
    "\n",
    "x_1 = x[\"cost_price\"]\n",
    "print(x_1)\n",
    "x_2 = x[\"sell_price\"]\n",
    "print(x_2)\n",
    "x_3 = x[\"inventory\"]\n",
    "print(x_3)\n",
    "\n",
    "#listas = list([x_1, x_2, x_3])\n",
    "#print( listas )\n",
    "pelnas = (x_2-x_1)*x_3\n",
    "print( pelnas )\n",
    "print( round( pelnas, 2 ))# suapvalinti iki 2 sk."
   ]
  },
  {
   "cell_type": "code",
   "execution_count": 67,
   "metadata": {},
   "outputs": [
    {
     "name": "stdout",
     "output_type": "stream",
     "text": [
      "['aha', 'a', 'adifhhasiduhgfdshgSDOIGH;SDOGHI', 'ADSUFGASIDUFHASDIHFGSADHFG', 'iduhfgd;ofgha;dofgh', 'daskjgahsdihgaedsjghakdfjgha;dfgh', 'efgaedfg', 'afgadfg', 'afgag', 'afg']\n",
      "4\n",
      "daskjgahsdihgaedsjghakdfjgha;dfgh yra ilgiausias zodis\n",
      "a yra trumpiausias zodis\n",
      "aha yra palindromas\n",
      "a yra palindromas\n"
     ]
    }
   ],
   "source": [
    "# 4. Leiskite įvesti 10 žodžių, programa turi atsakyti į tokius klausimus:\n",
    "import random\n",
    "\n",
    "words = []\n",
    "for word in range(1,11):\n",
    "    word = input('Iveskite 10 zodziu: ')\n",
    "    if word == None or word == '':\n",
    "        word = input('Iveskite zodi, negali buti tuscias')\n",
    "        #print(f'Nepavyko nuskaityti jusu vardo. Bandykite dar karta')\n",
    "    #while len(words) > 10:\n",
    "    #    word = input('Iveskite dar viena zodi')\n",
    "    words.append(word)\n",
    "print(words)\n",
    "\n",
    "\n",
    "#4a. Kiek žodžių yra ilgesnių nei 10 simbolių\n",
    "\n",
    "count=0\n",
    "for word in words:\n",
    "    if len(word)>10:\n",
    "        count += 1\n",
    "print(count)\n",
    "\n",
    "\n",
    "\n",
    "#4b. Kuris žodis yra ilgiausias ir trumpiausias\n",
    "\n",
    "ilgiausias = max(words,key=len)\n",
    "print(f'{ilgiausias} yra ilgiausias zodis')\n",
    "\n",
    "trumpiausias = min(words,key=len)\n",
    "print(f'{trumpiausias} yra trumpiausias zodis')\n",
    "\n",
    "#4c. Ar nors vienas žodis yra palindromas, jei taip, koks arba kokie tai žodžiai\n",
    "#Palindromas - atvirkščiai skaitant žodį, gaunasi tas pats žodis.\n",
    "#savas -> savas\n",
    "\n",
    "for word in words:\n",
    "    if word[::1] == word[::-1]:\n",
    "        print(f'{word} yra palindromas')"
   ]
  }
 ],
 "metadata": {
  "kernelspec": {
   "display_name": "Python 3",
   "language": "python",
   "name": "python3"
  },
  "language_info": {
   "codemirror_mode": {
    "name": "ipython",
    "version": 3
   },
   "file_extension": ".py",
   "mimetype": "text/x-python",
   "name": "python",
   "nbconvert_exporter": "python",
   "pygments_lexer": "ipython3",
   "version": "3.11.1"
  },
  "orig_nbformat": 4,
  "vscode": {
   "interpreter": {
    "hash": "af7a13de55b9033a0d92a6d05b8c21ff0ad3196d66c7143d42430bfd0fb75a53"
   }
  }
 },
 "nbformat": 4,
 "nbformat_minor": 2
}
