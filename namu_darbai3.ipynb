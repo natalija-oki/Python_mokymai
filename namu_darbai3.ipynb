{
 "cells": [
  {
   "cell_type": "code",
   "execution_count": 1,
   "metadata": {},
   "outputs": [
    {
     "name": "stdout",
     "output_type": "stream",
     "text": [
      "{8, 9, 3, 15}\n",
      "[3, 8, 9, 15]\n"
     ]
    }
   ],
   "source": [
    "# 1. Rasti pasikartojančius elementus tarp dviejų list'ų\n",
    "a = [1,2,3,4,5,6,7,8,9,15]\n",
    "b = [3,8,9,11,15]\n",
    "\n",
    "print( set(a).intersection ( set(b) ) )# kas bendro\n",
    "\n",
    "# Gauti rezultatą c = [3,8,9,15] nes šie skaičiai pasikartoja abiejuose listuose\n",
    "\n",
    "c = list (set ( set(a).intersection ( set(b) ) ) )\n",
    "print( sorted ( c ) )\n"
   ]
  },
  {
   "cell_type": "code",
   "execution_count": 1,
   "metadata": {},
   "outputs": [
    {
     "name": "stdout",
     "output_type": "stream",
     "text": [
      "{8, 9, 3, 15}\n",
      "[8, 9, 3, 15]\n"
     ]
    }
   ],
   "source": [
    "#1. destytojo variantaas\n",
    "\n",
    "a = [1,2,3,4,5,6,7,8,9,15]  \n",
    "b = [3,8,9,11,15]\n",
    "\n",
    "a = set( a )\n",
    "b = set( b )\n",
    "print (a.intersection( b ) )\n",
    "c = list( a.intersection( b ) )\n",
    "print(c)"
   ]
  },
  {
   "cell_type": "code",
   "execution_count": 2,
   "metadata": {},
   "outputs": [
    {
     "name": "stdout",
     "output_type": "stream",
     "text": [
      "{800, 1, 2, 900, 5, 8, 10, -20, 12, 14, -9, -8, -6, -900}\n",
      "[800, 1, 2, 900, 5, 8, 10, 12, 14]\n"
     ]
    }
   ],
   "source": [
    "#2. Išfiltruoti unikalius teigiamus numeris iš sąrašo\n",
    "x = [1, 5, 1, 2, 8, -9, 10, 1, -8, -900, 14, 5, -8, 2, 1, -20, 900, 800, -6, -8, 12, 1]\n",
    "set_x = set (  x )\n",
    "print( set_x )\n",
    "\n",
    "unik_teig = [x_1 for x_1 in set_x if x_1 > 0]\n",
    "print( unik_teig )\n"
   ]
  },
  {
   "cell_type": "code",
   "execution_count": 2,
   "metadata": {},
   "outputs": [
    {
     "name": "stdout",
     "output_type": "stream",
     "text": [
      "{800, 1, 2, 900, 5, 8, 10, -20, 12, 14, -9, -8, -6, -900}\n",
      "[800, 1, 2, 900, 5, 8, 10, 12, 14]\n"
     ]
    }
   ],
   "source": [
    "#2. destytojo varinantas\n",
    "\n",
    "x = [1, 5, 1, 2, 8, -9, 10, 1, -8, -900, 14, 5, -8, 2, 1, -20, 900, 800, -6, -8, 12, 1]\n",
    "\n",
    "x = set(x)\n",
    "print(x)\n",
    "# result = [ number for number in x if number > 0 ]\n",
    "result = []\n",
    "for number in x:\n",
    "    if number > 0:\n",
    "        result.append(number)\n",
    "print(result)"
   ]
  },
  {
   "cell_type": "code",
   "execution_count": 2,
   "metadata": {},
   "outputs": [
    {
     "name": "stdout",
     "output_type": "stream",
     "text": [
      "32.67\n",
      "45.0\n",
      "1212\n",
      "14943.959999999997\n",
      "14943.96\n",
      "pelnas:  14943.96\n"
     ]
    }
   ],
   "source": [
    "#3. Paskaičiuoti pelną pardavus visas prekes. Informacija apie kainą ir kiekius yra pateikiama kaip dictionary, atsakymą suapvalinti iki 2 skaičių po kablelio.\n",
    "x = { \"cost_price\": 32.67,\n",
    "\"sell_price\": 45.00,\n",
    "\"inventory\": 1212 }\n",
    "\n",
    "x_1 = x[\"cost_price\"]\n",
    "print(x_1)\n",
    "x_2 = x[\"sell_price\"]\n",
    "print(x_2)\n",
    "x_3 = x[\"inventory\"]\n",
    "print(x_3)\n",
    "\n",
    "#listas = list([x_1, x_2, x_3])\n",
    "#print( listas )\n",
    "pelnas = (x_2-x_1)*x_3\n",
    "print( pelnas )\n",
    "print( round( pelnas, 2 ))# suapvalinti iki 2 sk.\n",
    "\n",
    "print( f'pelnas: {pelnas: .2f}')# kitas budas suapvalinti"
   ]
  },
  {
   "cell_type": "code",
   "execution_count": 3,
   "metadata": {},
   "outputs": [
    {
     "name": "stdout",
     "output_type": "stream",
     "text": [
      "14943.96\n",
      "pelnas: 14943.96\n"
     ]
    }
   ],
   "source": [
    "# 3. destytojo variantas\n",
    "x = { \"cost_price\": 32.67,\n",
    "         \"sell_price\": 45.00,\n",
    "          \"inventory\": 1212  }\n",
    "\n",
    "profit = (x[\"sell_price\"] - x[\"cost_price\"]) * x[\"inventory\"]\n",
    "rounded_profit = round( profit, 2 )\n",
    "print (rounded_profit)\n",
    "print( f'pelnas: {profit:.2f}')"
   ]
  },
  {
   "cell_type": "code",
   "execution_count": 67,
   "metadata": {},
   "outputs": [
    {
     "name": "stdout",
     "output_type": "stream",
     "text": [
      "['aha', 'a', 'adifhhasiduhgfdshgSDOIGH;SDOGHI', 'ADSUFGASIDUFHASDIHFGSADHFG', 'iduhfgd;ofgha;dofgh', 'daskjgahsdihgaedsjghakdfjgha;dfgh', 'efgaedfg', 'afgadfg', 'afgag', 'afg']\n",
      "4\n",
      "daskjgahsdihgaedsjghakdfjgha;dfgh yra ilgiausias zodis\n",
      "a yra trumpiausias zodis\n",
      "aha yra palindromas\n",
      "a yra palindromas\n"
     ]
    }
   ],
   "source": [
    "# 4. Leiskite įvesti 10 žodžių, programa turi atsakyti į tokius klausimus:\n",
    "import random\n",
    "\n",
    "words = []\n",
    "for word in range(1,11):\n",
    "    word = input('Iveskite 10 zodziu: ')\n",
    "    if word == None or word == '':\n",
    "        word = input('Iveskite zodi, negali buti tuscias')\n",
    "        #print(f'Nepavyko nuskaityti jusu vardo. Bandykite dar karta')\n",
    "    #while len(words) > 10:\n",
    "    #    word = input('Iveskite dar viena zodi')\n",
    "    words.append(word)\n",
    "print(words)\n",
    "\n",
    "\n",
    "#4a. Kiek žodžių yra ilgesnių nei 10 simbolių\n",
    "\n",
    "count=0\n",
    "for word in words:\n",
    "    if len(word)>10:\n",
    "        count += 1\n",
    "print(count)\n",
    "\n",
    "\n",
    "\n",
    "#4b. Kuris žodis yra ilgiausias ir trumpiausias\n",
    "\n",
    "ilgiausias = max(words,key=len)\n",
    "print(f'{ilgiausias} yra ilgiausias zodis')\n",
    "\n",
    "trumpiausias = min(words,key=len)\n",
    "print(f'{trumpiausias} yra trumpiausias zodis')\n",
    "\n",
    "#4c. Ar nors vienas žodis yra palindromas, jei taip, koks arba kokie tai žodžiai\n",
    "#Palindromas - atvirkščiai skaitant žodį, gaunasi tas pats žodis.\n",
    "#savas -> savas\n",
    "\n",
    "for word in words:\n",
    "    if word[::1] == word[::-1]:\n",
    "        print(f'{word} yra palindromas')"
   ]
  },
  {
   "cell_type": "code",
   "execution_count": 4,
   "metadata": {},
   "outputs": [
    {
     "name": "stdout",
     "output_type": "stream",
     "text": [
      "['kompiuteris']\n",
      "1\n",
      "ilgiausias zodis: kompiuteris\n",
      "trumpiausias zodis: as\n",
      "['savas', 'aha', 'iki']\n",
      "['savas', 'aha', 'iki']\n"
     ]
    }
   ],
   "source": [
    "# destytojo variantas\n",
    "\n",
    "zodziai = ['as', 'savas', 'kompiuteris', 'obuolis', 'morka', 'pele', 'namas', 'konkorezis', 'internetas', 'aha', 'iki']\n",
    "\n",
    "ilgi_zodziai = [ zodis for zodis in zodziai if len(zodis) > 10 ]\n",
    "print(ilgi_zodziai)\n",
    "print (len(ilgi_zodziai))\n",
    "ilgiausias_zodis = max( zodziai, key=lambda zodis: len(zodis) )\n",
    "print(\"ilgiausias zodis:\", ilgiausias_zodis)\n",
    "trumpiausias_zodis = min( zodziai, key=lambda zodis: len(zodis) )\n",
    "print(\"trumpiausias zodis:\",trumpiausias_zodis)\n",
    "\n",
    "polindromai = [ zodis for zodis in zodziai if zodis == zodis[::-1] ]\n",
    "print (polindromai)\n",
    "# polindromai = [ 'polindromas' for zodis in zodziai if zodis == zodis[::-1] ]\n",
    "# print (polindromai)\n",
    "\n",
    "result = []\n",
    "for zodis in zodziai:\n",
    "    if zodis == zodis[::-1]:\n",
    "        result.append(zodis)\n",
    "print( result ) "
   ]
  },
  {
   "cell_type": "code",
   "execution_count": 5,
   "metadata": {},
   "outputs": [
    {
     "name": "stdout",
     "output_type": "stream",
     "text": [
      "po indeksu 0 yra skaicius 3, o kaimynas su indeksu 1 yra 6\n",
      "po indeksu 1 yra skaicius 6, o kaimynas su indeksu 2 yra -2\n",
      "po indeksu 2 yra skaicius -2, o kaimynas su indeksu 3 yra -5\n",
      "po indeksu 3 yra skaicius -5, o kaimynas su indeksu 4 yra 7\n",
      "po indeksu 4 yra skaicius 7, o kaimynas su indeksu 5 yra 3\n",
      "[18, -12, 10, -35, 21]\n",
      "21\n"
     ]
    }
   ],
   "source": [
    "# 5. Turėdami list’ą, gaukite didžiausią šalia esančių skaičių sandaugą\n",
    "# my_list = [3, 6, -2, -5, 7, 3]\n",
    "# rezultatas = 21, nes 7 ir 3 sandauga yra didžiausia\n",
    "\n",
    "my_list = [3, 6, -2, -5, 7, 3]\n",
    "\n",
    "suma=[]\n",
    "for idx in range(0, len(my_list) - 1 ):\n",
    "    print(f'po indeksu {idx} yra skaicius {my_list[idx]}, o kaimynas su indeksu {idx+1} yra {my_list[idx+1]}' )\n",
    "    # print(f', o kaimynas su indeksu {idx+1} yra {my_list[idx+1]}')\n",
    "    suma.append( my_list[idx] * my_list[idx+1] )\n",
    "print(suma)\n",
    "print (max(suma))"
   ]
  },
  {
   "cell_type": "code",
   "execution_count": 6,
   "metadata": {},
   "outputs": [
    {
     "name": "stdout",
     "output_type": "stream",
     "text": [
      "[3, 6, -2, -5, 7]\n",
      "[6, -2, -5, 7, 3]\n",
      "sk_1: 3, sk_2: 6\n",
      "sk_1: 6, sk_2: -2\n",
      "sk_1: -2, sk_2: -5\n",
      "sk_1: -5, sk_2: 7\n",
      "sk_1: 7, sk_2: 3\n",
      "21\n"
     ]
    }
   ],
   "source": [
    "#5. kitas variantas\n",
    "\n",
    "my_list = [3, 6, -2, -5, 7, 3]\n",
    "\n",
    "print (my_list[:-1])\n",
    "print (my_list[1:])\n",
    "\n",
    "sandauga = my_list[0] * my_list[1]\n",
    "\n",
    "for skaicius_1, skaicius_2 in zip( my_list[:-1], my_list[1:] ):\n",
    "    print(f'sk_1: {skaicius_1}, sk_2: {skaicius_2}')\n",
    "    sandauga = max(sandauga, skaicius_1 * skaicius_2)\n",
    "    # if sandauga < skaicius_1 * skaicius_2:\n",
    "    #     sandauga = skaicius_1 * skaicius_2\n",
    "\n",
    "print(sandauga)"
   ]
  }
 ],
 "metadata": {
  "kernelspec": {
   "display_name": "Python 3",
   "language": "python",
   "name": "python3"
  },
  "language_info": {
   "codemirror_mode": {
    "name": "ipython",
    "version": 3
   },
   "file_extension": ".py",
   "mimetype": "text/x-python",
   "name": "python",
   "nbconvert_exporter": "python",
   "pygments_lexer": "ipython3",
   "version": "3.11.1"
  },
  "orig_nbformat": 4,
  "vscode": {
   "interpreter": {
    "hash": "af7a13de55b9033a0d92a6d05b8c21ff0ad3196d66c7143d42430bfd0fb75a53"
   }
  }
 },
 "nbformat": 4,
 "nbformat_minor": 2
}
