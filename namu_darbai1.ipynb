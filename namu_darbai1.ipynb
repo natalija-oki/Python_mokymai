{
 "cells": [
  {
   "cell_type": "code",
   "execution_count": 4,
   "metadata": {},
   "outputs": [
    {
     "name": "stdout",
     "output_type": "stream",
     "text": [
      "['vaisiai', 'darzoves', 'mesa']\n",
      "3\n",
      "['vaisiai', 'darzoves', 'mesa', 'zuvys']\n",
      "4\n",
      "['duonos gaminiai', 'vaisiai', 'darzoves', 'mesa', 'zuvys']\n",
      "5\n"
     ]
    }
   ],
   "source": [
    "# 1. Deklaruoti list tipo duomenį, gauti jo ilgį, pridėti naują elementą\n",
    "\n",
    "maistas = [ 'vaisiai', 'darzoves', 'mesa']\n",
    "print( maistas )\n",
    "print( len(maistas) )\n",
    "maistas.append( 'zuvys' ) # prideda i sarasao pabaiga\n",
    "print( maistas )\n",
    "print( len(maistas) )\n",
    "\n",
    "maistas.insert( 0, 'duonos gaminiai') # prideti i norima pozicija, siuo atv i pirma\n",
    "print( maistas )\n",
    "print( len(maistas) )"
   ]
  },
  {
   "cell_type": "code",
   "execution_count": 5,
   "metadata": {},
   "outputs": [
    {
     "name": "stdout",
     "output_type": "stream",
     "text": [
      "['duonos gaminiai', 'vaisiai', 'darzoves', 'mesa', 'zuvys']\n",
      "True\n",
      "False\n"
     ]
    }
   ],
   "source": [
    "# 2. Patikrinti ar elementas yra jūsų sąraše. Naudoti raktažodį in\n",
    "print( maistas )\n",
    "print( \"mesa\" in maistas)\n",
    "print( \"vanduo\" in maistas)"
   ]
  },
  {
   "cell_type": "code",
   "execution_count": 29,
   "metadata": {},
   "outputs": [
    {
     "name": "stdout",
     "output_type": "stream",
     "text": [
      "[3, -10.5, 0]\n",
      "[100, 1, 0, 99]\n",
      "[3, -10.5, 0, 100, 1, 0, 99]\n",
      "99\n",
      "[3, -10.5, 0, 100, 1, 0]\n",
      "[-10.5, 0, 0, 1, 3, 100]\n",
      "[3, -10.5, 0, 100, 1, 0]\n",
      "[100, 3, 1, 0, 0, -10.5]\n",
      "[3, -10.5, 0, 100, 1, 0]\n",
      "2\n",
      "1\n",
      "0\n"
     ]
    }
   ],
   "source": [
    "# 3.Sudėti du list’us, išimti paskutinį narį iš sudėto listo, išrikiuoti list’ą, suskaičiuoti kiek yra kokios nors reikšmės įvesčių list’e\n",
    "sarasas1 = [ 3, -10.5, 0]\n",
    "sarasas2 = [ 100, 1, 0, 99]\n",
    "print ( sarasas1 )\n",
    "print ( sarasas2 )\n",
    "\n",
    "bendras_sarasas = sarasas1 + sarasas2 # sudejau du listus\n",
    "print( bendras_sarasas )\n",
    "\n",
    "\n",
    "\n",
    "\n",
    "print( bendras_sarasas.pop() ) # paskutinis naris\n",
    "print( bendras_sarasas ) # sarasas su isimtu nariu\n",
    "\n",
    "\n",
    "\n",
    "#bendras_sarasas.sort()\n",
    "#print( bendras_sarasas )# didejimo tvarka\n",
    "\n",
    "#bendras_sarasas.sort(reverse=True)# mazejimo tvarka\n",
    "#print( bendras_sarasas )\n",
    "\n",
    "# saugesnis variantas\n",
    "\n",
    "print( sorted( bendras_sarasas ) ) #  duoda isrikiuotas reiksmes, bet atspausdinus pati sarasa, nemodifikuoja duomenu\n",
    "print ( bendras_sarasas )\n",
    "\n",
    "print( sorted( bendras_sarasas, reverse = True ) ) #  mazejimo tvarka\n",
    "print ( bendras_sarasas )\n",
    "\n",
    "\n",
    "\n",
    "print ( bendras_sarasas.count(0) ) # suskaiciuoja kiek yra norimos reiksmes (siuo atv '0') sarase\n",
    "print ( bendras_sarasas.count(1) ) # suskaiciuoja kiek yra norimos reiksmes (siuo atv '1') sarase\n",
    "print ( bendras_sarasas.count(99) ) # suskaiciuoja kiek yra norimos reiksmes (siuo atv '99') sarase"
   ]
  }
 ],
 "metadata": {
  "kernelspec": {
   "display_name": "Python 3",
   "language": "python",
   "name": "python3"
  },
  "language_info": {
   "codemirror_mode": {
    "name": "ipython",
    "version": 3
   },
   "file_extension": ".py",
   "mimetype": "text/x-python",
   "name": "python",
   "nbconvert_exporter": "python",
   "pygments_lexer": "ipython3",
   "version": "3.11.1"
  },
  "orig_nbformat": 4,
  "vscode": {
   "interpreter": {
    "hash": "af7a13de55b9033a0d92a6d05b8c21ff0ad3196d66c7143d42430bfd0fb75a53"
   }
  }
 },
 "nbformat": 4,
 "nbformat_minor": 2
}
