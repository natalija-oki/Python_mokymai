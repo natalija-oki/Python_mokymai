{
 "cells": [
  {
   "cell_type": "code",
   "execution_count": 3,
   "metadata": {},
   "outputs": [],
   "source": [
    "import this"
   ]
  },
  {
   "cell_type": "code",
   "execution_count": 4,
   "metadata": {},
   "outputs": [],
   "source": [
    "# String"
   ]
  },
  {
   "cell_type": "code",
   "execution_count": 5,
   "metadata": {},
   "outputs": [],
   "source": [
    "my_text = 'Hello world'"
   ]
  },
  {
   "cell_type": "code",
   "execution_count": 6,
   "metadata": {},
   "outputs": [
    {
     "name": "stdout",
     "output_type": "stream",
     "text": [
      "Hello world\n"
     ]
    }
   ],
   "source": [
    "print(my_text)"
   ]
  },
  {
   "cell_type": "code",
   "execution_count": 17,
   "metadata": {},
   "outputs": [
    {
     "name": "stdout",
     "output_type": "stream",
     "text": [
      "H\n",
      "e\n",
      " \n",
      "w\n",
      "d\n",
      "l\n"
     ]
    }
   ],
   "source": [
    "print( my_text[0] )\n",
    "print( my_text[1] )\n",
    "print( my_text[5] )\n",
    "print( my_text[6] )\n",
    "print( my_text[-1] )# paskutine raide\n",
    "print( my_text[-2] )# antra nuo galo\n",
    "# print( my_text[50] )# error, nera tiek simboliu"
   ]
  },
  {
   "cell_type": "code",
   "execution_count": 16,
   "metadata": {},
   "outputs": [
    {
     "name": "stdout",
     "output_type": "stream",
     "text": [
      "11\n"
     ]
    }
   ],
   "source": [
    "print( len( my_text ) )# kiek simboliu"
   ]
  },
  {
   "cell_type": "code",
   "execution_count": 18,
   "metadata": {},
   "outputs": [],
   "source": [
    "## Slicing - pjaustyti"
   ]
  },
  {
   "cell_type": "code",
   "execution_count": 24,
   "metadata": {},
   "outputs": [
    {
     "name": "stdout",
     "output_type": "stream",
     "text": [
      "ello\n",
      "o\n",
      "ell\n",
      "He\n",
      "He\n"
     ]
    }
   ],
   "source": [
    "# Hello\n",
    "# *|***|*\n",
    "word = 'Hello'\n",
    "# slicing: variable_name[start:end]\n",
    "print( word[1:] ) # nuo kokios raides\n",
    "\n",
    "print( word[4] ) # nuo kokios raides\n",
    "print( word[1:4] ) # nuo kur iki kur\n",
    "\n",
    "print( word[0:2] ) # nuo pirmo iki antro\n",
    "print( word[:2] ) # nuo pradzios iki antro"
   ]
  },
  {
   "cell_type": "code",
   "execution_count": 27,
   "metadata": {},
   "outputs": [
    {
     "name": "stdout",
     "output_type": "stream",
     "text": [
      "Hello world\n",
      "ello wor\n",
      "el o\n",
      "eoo\n"
     ]
    }
   ],
   "source": [
    "word = 'Hello world'\n",
    "# slicing: variable_name[start:end:step]\n",
    "print(word)\n",
    "print(word[1:9])\n",
    "print(word[1:9:2]) # kas antra raide is intervalo\n",
    "print(word[1:9:3])# kas trecia raide is intervalo"
   ]
  },
  {
   "cell_type": "code",
   "execution_count": 34,
   "metadata": {},
   "outputs": [
    {
     "name": "stdout",
     "output_type": "stream",
     "text": [
      "I can't go today\n",
      "I can't go today\n",
      "I can't go today\n",
      "line 1 \n",
      "line 2\n",
      "    line 3\n"
     ]
    }
   ],
   "source": [
    "# text = 'I can't go today' # error del kabuciu\n",
    "text_1 = \"I can't go today\"\n",
    "print( text_1 )\n",
    "\n",
    "text_2 = \"I can\\'t go today\" # pries simboli kuri nieko nedaryti\n",
    "print( text_2 )\n",
    "\n",
    "text_3 = '''I can't go today''' # irgi tinka\n",
    "print( text_3 )\n",
    "\n",
    "text_4 = \"\"\"line 1 \n",
    "line 2\n",
    "    line 3\"\"\" # ypac kai eina per kelias eilutes ar formatuotas\n",
    "print( text_4 )\n",
    "\n",
    "# CTRL + /   komentuoti\n",
    "# Tab ot Shift + Tab stumdyti eilutes"
   ]
  },
  {
   "cell_type": "code",
   "execution_count": 35,
   "metadata": {},
   "outputs": [],
   "source": [
    "number = 5\n",
    "number_symbol = \"5\""
   ]
  },
  {
   "cell_type": "code",
   "execution_count": 41,
   "metadata": {},
   "outputs": [
    {
     "name": "stdout",
     "output_type": "stream",
     "text": [
      "I can't go today\n",
      "I CAN'T GO TODAY\n",
      "I Can'T Go Today\n",
      "i can't go today\n",
      "I can't go tomorrow\n",
      "I can't gO tOday\n",
      "I can't go today\n",
      "2\n",
      "8\n"
     ]
    }
   ],
   "source": [
    "print( text.capitalize() )\n",
    "print( text.upper() )\n",
    "print( text.title() )\n",
    "print( text.lower() )\n",
    "print( text.replace('today', 'tomorrow') )\n",
    "print( text.replace('o', 'O') )\n",
    "print( text.replace('oa', 'O') ) # nieko nekei, nera tokio\n",
    "print( text.count('a') )\n",
    "print( text.find('go') )"
   ]
  },
  {
   "cell_type": "code",
   "execution_count": 44,
   "metadata": {},
   "outputs": [
    {
     "name": "stdout",
     "output_type": "stream",
     "text": [
      "go today\n",
      "go\n"
     ]
    }
   ],
   "source": [
    "print( text[ text.find('go'): ] )\n",
    "print( text[ text.find('go'): text.find('go') + len('go')] )"
   ]
  },
  {
   "cell_type": "code",
   "execution_count": null,
   "metadata": {},
   "outputs": [],
   "source": [
    "# text.find()"
   ]
  },
  {
   "cell_type": "code",
   "execution_count": 45,
   "metadata": {},
   "outputs": [],
   "source": [
    "## Variable names"
   ]
  },
  {
   "cell_type": "code",
   "execution_count": 48,
   "metadata": {},
   "outputs": [],
   "source": [
    "# len = 10 # perrasem funkcija # BLOGAI pervadinti"
   ]
  },
  {
   "cell_type": "code",
   "execution_count": 47,
   "metadata": {},
   "outputs": [
    {
     "ename": "TypeError",
     "evalue": "'int' object is not callable",
     "output_type": "error",
     "traceback": [
      "\u001b[1;31m---------------------------------------------------------------------------\u001b[0m",
      "\u001b[1;31mTypeError\u001b[0m                                 Traceback (most recent call last)",
      "Cell \u001b[1;32mIn[47], line 1\u001b[0m\n\u001b[1;32m----> 1\u001b[0m \u001b[39mlen\u001b[39;49m(\u001b[39m'\u001b[39;49m\u001b[39mhello\u001b[39;49m\u001b[39m'\u001b[39;49m)\n",
      "\u001b[1;31mTypeError\u001b[0m: 'int' object is not callable"
     ]
    }
   ],
   "source": [
    "# len('hello') TypeError: 'int' object is not callable"
   ]
  },
  {
   "cell_type": "code",
   "execution_count": 49,
   "metadata": {},
   "outputs": [
    {
     "name": "stdout",
     "output_type": "stream",
     "text": [
      "hello\n"
     ]
    }
   ],
   "source": [
    "print('hello')"
   ]
  },
  {
   "cell_type": "code",
   "execution_count": 51,
   "metadata": {},
   "outputs": [
    {
     "name": "stdout",
     "output_type": "stream",
     "text": [
      "22\n"
     ]
    }
   ],
   "source": [
    "MY_CONSTANT = 22 # kai rasom duidziosiom, tai yra konstanta ir neturi buti keiciama\n",
    "my_number = 10\n",
    "print (MY_CONSTANT)"
   ]
  },
  {
   "cell_type": "code",
   "execution_count": 52,
   "metadata": {},
   "outputs": [
    {
     "name": "stdout",
     "output_type": "stream",
     "text": [
      "10\n"
     ]
    }
   ],
   "source": [
    "# MY_CONSTANT = my_number # realiai galim pakeisti bet nereikia\n",
    "# print (MY_CONSTANT)"
   ]
  },
  {
   "cell_type": "code",
   "execution_count": 56,
   "metadata": {},
   "outputs": [
    {
     "name": "stdout",
     "output_type": "stream",
     "text": [
      "Natalija Okincic\n",
      "Natalija Okincic\n"
     ]
    }
   ],
   "source": [
    "my_name = 'Natalija'\n",
    "my_surname = \"Okincic\"\n",
    "print (my_name, my_surname )\n",
    "print ('Natalija', \"Okincic\" )\n"
   ]
  },
  {
   "cell_type": "code",
   "execution_count": 58,
   "metadata": {},
   "outputs": [
    {
     "name": "stdout",
     "output_type": "stream",
     "text": [
      "PYTHON MAKES ME REALLY HAPPY!\n",
      "PyThOn makes me really happy!\n"
     ]
    }
   ],
   "source": [
    "text_1 = 'Python makes me really happy!'\n",
    "print (text_1.upper())\n",
    "print (text_1.replace('tho', 'ThO'))"
   ]
  },
  {
   "cell_type": "code",
   "execution_count": 73,
   "metadata": {},
   "outputs": [
    {
     "name": "stdout",
     "output_type": "stream",
     "text": [
      "18\n"
     ]
    },
    {
     "ename": "TypeError",
     "evalue": "'int' object is not callable",
     "output_type": "error",
     "traceback": [
      "\u001b[1;31m---------------------------------------------------------------------------\u001b[0m",
      "\u001b[1;31mTypeError\u001b[0m                                 Traceback (most recent call last)",
      "Cell \u001b[1;32mIn[73], line 11\u001b[0m\n\u001b[0;32m      8\u001b[0m \u001b[39mprint\u001b[39m (text\u001b[39m.\u001b[39mindex(word_to_find))\n\u001b[0;32m      9\u001b[0m \u001b[39m# print(text[ text.index(word_to_find):text.index(word_to_find) + len (word_to_find)])\u001b[39;00m\n\u001b[1;32m---> 11\u001b[0m \u001b[39mprint\u001b[39m(\u001b[39m\"\u001b[39m\u001b[39mlen:\u001b[39m\u001b[39m\"\u001b[39m, \u001b[39mlen\u001b[39;49m(text))\n",
      "\u001b[1;31mTypeError\u001b[0m: 'int' object is not callable"
     ]
    }
   ],
   "source": [
    "# text = 'Hello World, I am happy to learn Python!'\n",
    "# word_to_find = 'happy'\n",
    "# print( stringas[18:23] )\n",
    "# print (text.index('happy'))\n",
    "# print(text[ text.index('happy'):text.index('happy') + len ('happy')])\n",
    "# print( text[18:23] )\n",
    "\n",
    "# print (text.index(word_to_find))\n",
    "# print(text[ text.index(word_to_find):text.index(word_to_find) + len (word_to_find)])\n",
    "\n",
    "# print(\"len:\", len(text))\n"
   ]
  },
  {
   "cell_type": "code",
   "execution_count": null,
   "metadata": {},
   "outputs": [],
   "source": []
  }
 ],
 "metadata": {
  "kernelspec": {
   "display_name": "Python 3",
   "language": "python",
   "name": "python3"
  },
  "language_info": {
   "codemirror_mode": {
    "name": "ipython",
    "version": 3
   },
   "file_extension": ".py",
   "mimetype": "text/x-python",
   "name": "python",
   "nbconvert_exporter": "python",
   "pygments_lexer": "ipython3",
   "version": "3.11.1"
  },
  "orig_nbformat": 4,
  "vscode": {
   "interpreter": {
    "hash": "af7a13de55b9033a0d92a6d05b8c21ff0ad3196d66c7143d42430bfd0fb75a53"
   }
  }
 },
 "nbformat": 4,
 "nbformat_minor": 2
}
